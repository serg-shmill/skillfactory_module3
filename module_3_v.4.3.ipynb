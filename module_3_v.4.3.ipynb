{
 "cells": [
  {
   "cell_type": "markdown",
   "metadata": {
    "papermill": {
     "duration": 0.085399,
     "end_time": "2020-09-26T11:09:16.875799",
     "exception": false,
     "start_time": "2020-09-26T11:09:16.790400",
     "status": "completed"
    },
    "tags": []
   },
   "source": [
    "**Итоговое задание** \n",
    "\n",
    "Шишло Сергея по проекту 3 \"О вкусной и здоровой пище\" (DST-20).\n",
    "\n",
    "Юнит 3. Введение в машинное обучение (последняя редакция 26.09.2020)"
   ]
  },
  {
   "cell_type": "markdown",
   "metadata": {},
   "source": [
    "https://www.kaggle.com/sergejshishlo/notebook690511dfe4"
   ]
  },
  {
   "cell_type": "code",
   "execution_count": 1,
   "metadata": {
    "_cell_guid": "b1076dfc-b9ad-4769-8c92-a6c4dae69d19",
    "_uuid": "8f2839f25d086af736a60e9eeb907d3b93b6e0e5",
    "execution": {
     "iopub.execute_input": "2020-09-26T11:09:17.060781Z",
     "iopub.status.busy": "2020-09-26T11:09:17.059816Z",
     "iopub.status.idle": "2020-09-26T11:09:18.477270Z",
     "shell.execute_reply": "2020-09-26T11:09:18.476354Z"
    },
    "papermill": {
     "duration": 1.516831,
     "end_time": "2020-09-26T11:09:18.477421",
     "exception": false,
     "start_time": "2020-09-26T11:09:16.960590",
     "status": "completed"
    },
    "tags": []
   },
   "outputs": [],
   "source": [
    "import pandas as pd\n",
    "import numpy as np\n",
    "from scipy import stats as st\n",
    "import math\n",
    "import datetime\n",
    "import os\n",
    "import matplotlib.pyplot as plt\n",
    "import seaborn as sns \n",
    "%matplotlib inline\n",
    "from IPython.display import display\n",
    "from sklearn.model_selection import train_test_split \n",
    "from sklearn.ensemble import RandomForestRegressor \n",
    "from sklearn import metrics\n",
    "from sklearn.preprocessing import LabelEncoder\n",
    "from itertools import combinations\n",
    "from collections import Counter\n",
    "import random\n",
    "from sklearn.preprocessing import StandardScaler"
   ]
  },
  {
   "cell_type": "code",
   "execution_count": 2,
   "metadata": {
    "_cell_guid": "79c7e3d0-c299-4dcb-8224-4455121ee9b0",
    "_uuid": "d629ff2d2480ee46fbb7e2d37f6b5fab8052498a",
    "execution": {
     "iopub.execute_input": "2020-09-26T11:09:18.655995Z",
     "iopub.status.busy": "2020-09-26T11:09:18.655225Z",
     "iopub.status.idle": "2020-09-26T11:09:21.593968Z",
     "shell.execute_reply": "2020-09-26T11:09:21.594575Z"
    },
    "papermill": {
     "duration": 3.031376,
     "end_time": "2020-09-26T11:09:21.594770",
     "exception": false,
     "start_time": "2020-09-26T11:09:18.563394",
     "status": "completed"
    },
    "tags": []
   },
   "outputs": [],
   "source": [
    "RANDOM_SEED = 42\n",
    "!pip freeze > requirements.txt\n",
    "CURRENT_DATE = pd.to_datetime('21/09/2020')"
   ]
  },
  {
   "cell_type": "code",
   "execution_count": 3,
   "metadata": {
    "execution": {
     "iopub.execute_input": "2020-09-26T11:09:21.775564Z",
     "iopub.status.busy": "2020-09-26T11:09:21.774702Z",
     "iopub.status.idle": "2020-09-26T11:09:21.778687Z",
     "shell.execute_reply": "2020-09-26T11:09:21.778054Z"
    },
    "papermill": {
     "duration": 0.098589,
     "end_time": "2020-09-26T11:09:21.778825",
     "exception": false,
     "start_time": "2020-09-26T11:09:21.680236",
     "status": "completed"
    },
    "tags": []
   },
   "outputs": [],
   "source": [
    "def diagram_bar(data, column):\n",
    "    fig = plt.figure()\n",
    "    main_axes = fig.add_axes([0,0,1,1])\n",
    "    data[column].hist(bins = 20)\n",
    "    insert_axes = fig.add_axes([1.1,0,0.5,1])\n",
    "    data.boxplot(column = column)\n",
    "    "
   ]
  },
  {
   "cell_type": "code",
   "execution_count": 4,
   "metadata": {
    "execution": {
     "iopub.execute_input": "2020-09-26T11:09:21.960075Z",
     "iopub.status.busy": "2020-09-26T11:09:21.959000Z",
     "iopub.status.idle": "2020-09-26T11:09:21.963579Z",
     "shell.execute_reply": "2020-09-26T11:09:21.962824Z"
    },
    "papermill": {
     "duration": 0.099932,
     "end_time": "2020-09-26T11:09:21.963713",
     "exception": false,
     "start_time": "2020-09-26T11:09:21.863781",
     "status": "completed"
    },
    "tags": []
   },
   "outputs": [],
   "source": [
    "def hypothyroidism(data, column, alpha):\n",
    "    if (st.ttest_ind(df[(df['Sample'] == 1) & df[column] == 1].Rating, df[(df['Sample'] == 1) & df[column] == 0].Rating).pvalue < alpha):\n",
    "        print(\"Отвергаем нулевую гипотезу\")\n",
    "    else:\n",
    "        print(\"Не получилось отвергнуть нулевую гипотезу\")"
   ]
  },
  {
   "cell_type": "code",
   "execution_count": 5,
   "metadata": {
    "execution": {
     "iopub.execute_input": "2020-09-26T11:09:22.144511Z",
     "iopub.status.busy": "2020-09-26T11:09:22.143558Z",
     "iopub.status.idle": "2020-09-26T11:09:22.146634Z",
     "shell.execute_reply": "2020-09-26T11:09:22.147265Z"
    },
    "papermill": {
     "duration": 0.09833,
     "end_time": "2020-09-26T11:09:22.147470",
     "exception": false,
     "start_time": "2020-09-26T11:09:22.049140",
     "status": "completed"
    },
    "tags": []
   },
   "outputs": [],
   "source": [
    "def hypothyroidism_1(data, column, alpha):\n",
    "    for row in combinations(data[column].unique(), 2):\n",
    "        print(row)\n",
    "        if (st.ttest_ind(data[(data['Sample'] == 1) & data[column] == row[0]].Rating, data[(df['Sample'] == 1) & data[column] == row[1]].Rating).pvalue < alpha):\n",
    "            print(\"Отвергаем нулевую гипотезу равенства рейтингов \", row)\n",
    "        else:\n",
    "            print(\"Не получилось отвергнуть нулевую гипотезу равенства \", row)\n",
    "    "
   ]
  },
  {
   "cell_type": "markdown",
   "metadata": {
    "papermill": {
     "duration": 0.085655,
     "end_time": "2020-09-26T11:09:22.319160",
     "exception": false,
     "start_time": "2020-09-26T11:09:22.233505",
     "status": "completed"
    },
    "tags": []
   },
   "source": [
    "Осуществим загрузку данных\n",
    "------"
   ]
  },
  {
   "cell_type": "code",
   "execution_count": 6,
   "metadata": {
    "execution": {
     "iopub.execute_input": "2020-09-26T11:09:22.499060Z",
     "iopub.status.busy": "2020-09-26T11:09:22.498291Z",
     "iopub.status.idle": "2020-09-26T11:09:22.851304Z",
     "shell.execute_reply": "2020-09-26T11:09:22.851898Z"
    },
    "papermill": {
     "duration": 0.448309,
     "end_time": "2020-09-26T11:09:22.852096",
     "exception": false,
     "start_time": "2020-09-26T11:09:22.403787",
     "status": "completed"
    },
    "tags": []
   },
   "outputs": [
    {
     "data": {
      "text/html": [
       "<div>\n",
       "<style scoped>\n",
       "    .dataframe tbody tr th:only-of-type {\n",
       "        vertical-align: middle;\n",
       "    }\n",
       "\n",
       "    .dataframe tbody tr th {\n",
       "        vertical-align: top;\n",
       "    }\n",
       "\n",
       "    .dataframe thead th {\n",
       "        text-align: right;\n",
       "    }\n",
       "</style>\n",
       "<table border=\"1\" class=\"dataframe\">\n",
       "  <thead>\n",
       "    <tr style=\"text-align: right;\">\n",
       "      <th></th>\n",
       "      <th>Restaurant_id</th>\n",
       "      <th>City</th>\n",
       "      <th>Cuisine Style</th>\n",
       "      <th>Ranking</th>\n",
       "      <th>Rating</th>\n",
       "      <th>Price Range</th>\n",
       "      <th>Number of Reviews</th>\n",
       "      <th>Reviews</th>\n",
       "      <th>URL_TA</th>\n",
       "      <th>ID_TA</th>\n",
       "    </tr>\n",
       "  </thead>\n",
       "  <tbody>\n",
       "    <tr>\n",
       "      <th>0</th>\n",
       "      <td>id_5569</td>\n",
       "      <td>Paris</td>\n",
       "      <td>['European', 'French', 'International']</td>\n",
       "      <td>5570.0</td>\n",
       "      <td>3.5</td>\n",
       "      <td>$$ - $$$</td>\n",
       "      <td>194.0</td>\n",
       "      <td>[['Good food at your doorstep', 'A good hotel ...</td>\n",
       "      <td>/Restaurant_Review-g187147-d1912643-Reviews-R_...</td>\n",
       "      <td>d1912643</td>\n",
       "    </tr>\n",
       "    <tr>\n",
       "      <th>1</th>\n",
       "      <td>id_1535</td>\n",
       "      <td>Stockholm</td>\n",
       "      <td>NaN</td>\n",
       "      <td>1537.0</td>\n",
       "      <td>4.0</td>\n",
       "      <td>NaN</td>\n",
       "      <td>10.0</td>\n",
       "      <td>[['Unique cuisine', 'Delicious Nepalese food']...</td>\n",
       "      <td>/Restaurant_Review-g189852-d7992032-Reviews-Bu...</td>\n",
       "      <td>d7992032</td>\n",
       "    </tr>\n",
       "  </tbody>\n",
       "</table>\n",
       "</div>"
      ],
      "text/plain": [
       "  Restaurant_id       City                            Cuisine Style  Ranking  \\\n",
       "0       id_5569      Paris  ['European', 'French', 'International']   5570.0   \n",
       "1       id_1535  Stockholm                                      NaN   1537.0   \n",
       "\n",
       "   Rating Price Range  Number of Reviews  \\\n",
       "0     3.5    $$ - $$$              194.0   \n",
       "1     4.0         NaN               10.0   \n",
       "\n",
       "                                             Reviews  \\\n",
       "0  [['Good food at your doorstep', 'A good hotel ...   \n",
       "1  [['Unique cuisine', 'Delicious Nepalese food']...   \n",
       "\n",
       "                                              URL_TA     ID_TA  \n",
       "0  /Restaurant_Review-g187147-d1912643-Reviews-R_...  d1912643  \n",
       "1  /Restaurant_Review-g189852-d7992032-Reviews-Bu...  d7992032  "
      ]
     },
     "metadata": {},
     "output_type": "display_data"
    },
    {
     "data": {
      "text/html": [
       "<div>\n",
       "<style scoped>\n",
       "    .dataframe tbody tr th:only-of-type {\n",
       "        vertical-align: middle;\n",
       "    }\n",
       "\n",
       "    .dataframe tbody tr th {\n",
       "        vertical-align: top;\n",
       "    }\n",
       "\n",
       "    .dataframe thead th {\n",
       "        text-align: right;\n",
       "    }\n",
       "</style>\n",
       "<table border=\"1\" class=\"dataframe\">\n",
       "  <thead>\n",
       "    <tr style=\"text-align: right;\">\n",
       "      <th></th>\n",
       "      <th>Restaurant_id</th>\n",
       "      <th>City</th>\n",
       "      <th>Cuisine Style</th>\n",
       "      <th>Ranking</th>\n",
       "      <th>Price Range</th>\n",
       "      <th>Number of Reviews</th>\n",
       "      <th>Reviews</th>\n",
       "      <th>URL_TA</th>\n",
       "      <th>ID_TA</th>\n",
       "    </tr>\n",
       "  </thead>\n",
       "  <tbody>\n",
       "    <tr>\n",
       "      <th>0</th>\n",
       "      <td>id_0</td>\n",
       "      <td>Paris</td>\n",
       "      <td>['Bar', 'Pub']</td>\n",
       "      <td>12963.0</td>\n",
       "      <td>$$ - $$$</td>\n",
       "      <td>4.0</td>\n",
       "      <td>[[], []]</td>\n",
       "      <td>/Restaurant_Review-g187147-d10746918-Reviews-L...</td>\n",
       "      <td>d10746918</td>\n",
       "    </tr>\n",
       "    <tr>\n",
       "      <th>1</th>\n",
       "      <td>id_1</td>\n",
       "      <td>Helsinki</td>\n",
       "      <td>['European', 'Scandinavian', 'Gluten Free Opti...</td>\n",
       "      <td>106.0</td>\n",
       "      <td>$$ - $$$</td>\n",
       "      <td>97.0</td>\n",
       "      <td>[['Very good reviews!', 'Fine dining in Hakani...</td>\n",
       "      <td>/Restaurant_Review-g189934-d6674944-Reviews-Ra...</td>\n",
       "      <td>d6674944</td>\n",
       "    </tr>\n",
       "  </tbody>\n",
       "</table>\n",
       "</div>"
      ],
      "text/plain": [
       "  Restaurant_id      City                                      Cuisine Style  \\\n",
       "0          id_0     Paris                                     ['Bar', 'Pub']   \n",
       "1          id_1  Helsinki  ['European', 'Scandinavian', 'Gluten Free Opti...   \n",
       "\n",
       "   Ranking Price Range  Number of Reviews  \\\n",
       "0  12963.0    $$ - $$$                4.0   \n",
       "1    106.0    $$ - $$$               97.0   \n",
       "\n",
       "                                             Reviews  \\\n",
       "0                                           [[], []]   \n",
       "1  [['Very good reviews!', 'Fine dining in Hakani...   \n",
       "\n",
       "                                              URL_TA      ID_TA  \n",
       "0  /Restaurant_Review-g187147-d10746918-Reviews-L...  d10746918  \n",
       "1  /Restaurant_Review-g189934-d6674944-Reviews-Ra...   d6674944  "
      ]
     },
     "metadata": {},
     "output_type": "display_data"
    }
   ],
   "source": [
    "path_to_file = '/kaggle/input/sf-dst-restaurant-rating/'\n",
    "df_train = pd.read_csv(path_to_file+'main_task.csv')\n",
    "df_test = pd.read_csv(path_to_file+'kaggle_task.csv')\n",
    "sample_submission = pd.read_csv(path_to_file+'/sample_submission.csv')\n",
    "pd.set_option('display.max_columns', 200)\n",
    "display(df_train.head(2))\n",
    "display(df_test.head(2))"
   ]
  },
  {
   "cell_type": "code",
   "execution_count": 7,
   "metadata": {
    "execution": {
     "iopub.execute_input": "2020-09-26T11:09:23.064097Z",
     "iopub.status.busy": "2020-09-26T11:09:23.062987Z",
     "iopub.status.idle": "2020-09-26T11:09:23.102304Z",
     "shell.execute_reply": "2020-09-26T11:09:23.102895Z"
    },
    "papermill": {
     "duration": 0.163087,
     "end_time": "2020-09-26T11:09:23.103082",
     "exception": false,
     "start_time": "2020-09-26T11:09:22.939995",
     "status": "completed"
    },
    "tags": []
   },
   "outputs": [
    {
     "name": "stdout",
     "output_type": "stream",
     "text": [
      "<class 'pandas.core.frame.DataFrame'>\n",
      "RangeIndex: 40000 entries, 0 to 39999\n",
      "Data columns (total 10 columns):\n",
      " #   Column             Non-Null Count  Dtype  \n",
      "---  ------             --------------  -----  \n",
      " 0   Restaurant_id      40000 non-null  object \n",
      " 1   City               40000 non-null  object \n",
      " 2   Cuisine Style      30717 non-null  object \n",
      " 3   Ranking            40000 non-null  float64\n",
      " 4   Rating             40000 non-null  float64\n",
      " 5   Price Range        26114 non-null  object \n",
      " 6   Number of Reviews  37457 non-null  float64\n",
      " 7   Reviews            40000 non-null  object \n",
      " 8   URL_TA             40000 non-null  object \n",
      " 9   ID_TA              40000 non-null  object \n",
      "dtypes: float64(3), object(7)\n",
      "memory usage: 3.1+ MB\n"
     ]
    },
    {
     "data": {
      "text/plain": [
       "None"
      ]
     },
     "metadata": {},
     "output_type": "display_data"
    },
    {
     "name": "stdout",
     "output_type": "stream",
     "text": [
      "<class 'pandas.core.frame.DataFrame'>\n",
      "RangeIndex: 10000 entries, 0 to 9999\n",
      "Data columns (total 9 columns):\n",
      " #   Column             Non-Null Count  Dtype  \n",
      "---  ------             --------------  -----  \n",
      " 0   Restaurant_id      10000 non-null  object \n",
      " 1   City               10000 non-null  object \n",
      " 2   Cuisine Style      7693 non-null   object \n",
      " 3   Ranking            10000 non-null  float64\n",
      " 4   Price Range        6525 non-null   object \n",
      " 5   Number of Reviews  9343 non-null   float64\n",
      " 6   Reviews            9998 non-null   object \n",
      " 7   URL_TA             10000 non-null  object \n",
      " 8   ID_TA              10000 non-null  object \n",
      "dtypes: float64(2), object(7)\n",
      "memory usage: 703.2+ KB\n"
     ]
    },
    {
     "data": {
      "text/plain": [
       "None"
      ]
     },
     "metadata": {},
     "output_type": "display_data"
    }
   ],
   "source": [
    "display(df_train.info())\n",
    "display(df_test.info())"
   ]
  },
  {
   "cell_type": "markdown",
   "metadata": {
    "papermill": {
     "duration": 0.088427,
     "end_time": "2020-09-26T11:09:23.281253",
     "exception": false,
     "start_time": "2020-09-26T11:09:23.192826",
     "status": "completed"
    },
    "tags": []
   },
   "source": [
    "Вывод\n",
    "------\n",
    "\n",
    "   1. Стоит обратить на большое количество пропусков в столбцах Cuisine Style, Price Range.\n",
    "   2. Сложное заполнение данных в столбце Reviews там содержатся строковые данные и даты."
   ]
  },
  {
   "cell_type": "markdown",
   "metadata": {
    "papermill": {
     "duration": 0.087664,
     "end_time": "2020-09-26T11:09:23.457708",
     "exception": false,
     "start_time": "2020-09-26T11:09:23.370044",
     "status": "completed"
    },
    "tags": []
   },
   "source": [
    "Предобработка данных\n",
    "------"
   ]
  },
  {
   "cell_type": "markdown",
   "metadata": {
    "papermill": {
     "duration": 0.090797,
     "end_time": "2020-09-26T11:09:23.636779",
     "exception": false,
     "start_time": "2020-09-26T11:09:23.545982",
     "status": "completed"
    },
    "tags": []
   },
   "source": [
    "**Шаг 1. Проверим данные на дубликаты**\n",
    "\n",
    "Для анализа будем использовать данные без учета отзывов"
   ]
  },
  {
   "cell_type": "code",
   "execution_count": 8,
   "metadata": {
    "execution": {
     "iopub.execute_input": "2020-09-26T11:09:23.830875Z",
     "iopub.status.busy": "2020-09-26T11:09:23.828246Z",
     "iopub.status.idle": "2020-09-26T11:09:23.894754Z",
     "shell.execute_reply": "2020-09-26T11:09:23.894126Z"
    },
    "papermill": {
     "duration": 0.16862,
     "end_time": "2020-09-26T11:09:23.894890",
     "exception": false,
     "start_time": "2020-09-26T11:09:23.726270",
     "status": "completed"
    },
    "tags": []
   },
   "outputs": [
    {
     "data": {
      "text/plain": [
       "0"
      ]
     },
     "execution_count": 8,
     "metadata": {},
     "output_type": "execute_result"
    }
   ],
   "source": [
    "df_train.drop('Reviews', axis = 1).duplicated().sum()"
   ]
  },
  {
   "cell_type": "code",
   "execution_count": 9,
   "metadata": {
    "execution": {
     "iopub.execute_input": "2020-09-26T11:09:24.085412Z",
     "iopub.status.busy": "2020-09-26T11:09:24.084280Z",
     "iopub.status.idle": "2020-09-26T11:09:24.107153Z",
     "shell.execute_reply": "2020-09-26T11:09:24.107703Z"
    },
    "papermill": {
     "duration": 0.123063,
     "end_time": "2020-09-26T11:09:24.107880",
     "exception": false,
     "start_time": "2020-09-26T11:09:23.984817",
     "status": "completed"
    },
    "tags": []
   },
   "outputs": [
    {
     "data": {
      "text/plain": [
       "0"
      ]
     },
     "execution_count": 9,
     "metadata": {},
     "output_type": "execute_result"
    }
   ],
   "source": [
    "df_test.drop('Reviews', axis = 1).duplicated().sum()"
   ]
  },
  {
   "cell_type": "markdown",
   "metadata": {
    "papermill": {
     "duration": 0.089159,
     "end_time": "2020-09-26T11:09:24.288174",
     "exception": false,
     "start_time": "2020-09-26T11:09:24.199015",
     "status": "completed"
    },
    "tags": []
   },
   "source": [
    "**Вывод**\n",
    "\n",
    "Дубликаты отсутствуют как в обучающей так и в тестовой выборке"
   ]
  },
  {
   "cell_type": "markdown",
   "metadata": {
    "papermill": {
     "duration": 0.088737,
     "end_time": "2020-09-26T11:09:24.466291",
     "exception": false,
     "start_time": "2020-09-26T11:09:24.377554",
     "status": "completed"
    },
    "tags": []
   },
   "source": [
    "**Шаг 2.** Проанализируем значение целевой переменной на тесовой выборке"
   ]
  },
  {
   "cell_type": "code",
   "execution_count": 10,
   "metadata": {
    "execution": {
     "iopub.execute_input": "2020-09-26T11:09:24.651722Z",
     "iopub.status.busy": "2020-09-26T11:09:24.650945Z",
     "iopub.status.idle": "2020-09-26T11:09:25.087257Z",
     "shell.execute_reply": "2020-09-26T11:09:25.087808Z"
    },
    "papermill": {
     "duration": 0.532225,
     "end_time": "2020-09-26T11:09:25.087975",
     "exception": false,
     "start_time": "2020-09-26T11:09:24.555750",
     "status": "completed"
    },
    "tags": []
   },
   "outputs": [
    {
     "data": {
      "image/png": "[encoded data removed]",
      "text/plain": [
       "<Figure size 432x288 with 2 Axes>"
      ]
     },
     "metadata": {
      "needs_background": "light"
     },
     "output_type": "display_data"
    }
   ],
   "source": [
    "diagram_bar(df_train, 'Rating')"
   ]
  },
  {
   "cell_type": "code",
   "execution_count": 11,
   "metadata": {
    "execution": {
     "iopub.execute_input": "2020-09-26T11:09:25.275673Z",
     "iopub.status.busy": "2020-09-26T11:09:25.274920Z",
     "iopub.status.idle": "2020-09-26T11:09:25.278858Z",
     "shell.execute_reply": "2020-09-26T11:09:25.278289Z"
    },
    "papermill": {
     "duration": 0.098649,
     "end_time": "2020-09-26T11:09:25.278989",
     "exception": false,
     "start_time": "2020-09-26T11:09:25.180340",
     "status": "completed"
    },
    "tags": []
   },
   "outputs": [],
   "source": [
    "#q25, q75 = df_train['Rating'].quantile([0.25,0.75])\n",
    "#IQR = q75 - q25\n",
    "#df_train = df_train[df_train['Rating'] >= (q25 - 1.5*IQR)]\n",
    "#df_train.info()                                           "
   ]
  },
  {
   "cell_type": "markdown",
   "metadata": {
    "papermill": {
     "duration": 0.090218,
     "end_time": "2020-09-26T11:09:25.460130",
     "exception": false,
     "start_time": "2020-09-26T11:09:25.369912",
     "status": "completed"
    },
    "tags": []
   },
   "source": [
    "**Вывод** \n",
    "\n",
    "Среди данных о рейтинге существуют выбросы по нижней границе. Данные от выбросов очищать не будем т.к. теряются уникальные значения."
   ]
  },
  {
   "cell_type": "markdown",
   "metadata": {
    "papermill": {
     "duration": 0.090275,
     "end_time": "2020-09-26T11:09:25.641186",
     "exception": false,
     "start_time": "2020-09-26T11:09:25.550911",
     "status": "completed"
    },
    "tags": []
   },
   "source": [
    "**Шаг 3.** Соединение двух DF: обучающего и тренеровочного"
   ]
  },
  {
   "cell_type": "code",
   "execution_count": 12,
   "metadata": {
    "execution": {
     "iopub.execute_input": "2020-09-26T11:09:25.833152Z",
     "iopub.status.busy": "2020-09-26T11:09:25.832384Z",
     "iopub.status.idle": "2020-09-26T11:09:25.872743Z",
     "shell.execute_reply": "2020-09-26T11:09:25.871936Z"
    },
    "papermill": {
     "duration": 0.140981,
     "end_time": "2020-09-26T11:09:25.872871",
     "exception": false,
     "start_time": "2020-09-26T11:09:25.731890",
     "status": "completed"
    },
    "tags": []
   },
   "outputs": [],
   "source": [
    "df_train['Sample'] = 1 # метка для обучающей DF\n",
    "df_test['Sample'] = 0 # метка для тестовой DF\n",
    "df_test['Rating'] = 0 # т.к. в тестовой выборке отсутствует столбец Rating, то создаем и заполняем его столбец 0\n",
    "\n",
    "df = df_test.append(df_train, sort=False).reset_index(drop=True) "
   ]
  },
  {
   "cell_type": "code",
   "execution_count": 13,
   "metadata": {
    "execution": {
     "iopub.execute_input": "2020-09-26T11:09:26.063740Z",
     "iopub.status.busy": "2020-09-26T11:09:26.062941Z",
     "iopub.status.idle": "2020-09-26T11:09:26.126892Z",
     "shell.execute_reply": "2020-09-26T11:09:26.126236Z"
    },
    "papermill": {
     "duration": 0.162369,
     "end_time": "2020-09-26T11:09:26.127042",
     "exception": false,
     "start_time": "2020-09-26T11:09:25.964673",
     "status": "completed"
    },
    "tags": []
   },
   "outputs": [
    {
     "name": "stdout",
     "output_type": "stream",
     "text": [
      "<class 'pandas.core.frame.DataFrame'>\n",
      "RangeIndex: 50000 entries, 0 to 49999\n",
      "Data columns (total 11 columns):\n",
      " #   Column             Non-Null Count  Dtype  \n",
      "---  ------             --------------  -----  \n",
      " 0   Restaurant_id      50000 non-null  object \n",
      " 1   City               50000 non-null  object \n",
      " 2   Cuisine Style      38410 non-null  object \n",
      " 3   Ranking            50000 non-null  float64\n",
      " 4   Price Range        32639 non-null  object \n",
      " 5   Number of Reviews  46800 non-null  float64\n",
      " 6   Reviews            49998 non-null  object \n",
      " 7   URL_TA             50000 non-null  object \n",
      " 8   ID_TA              50000 non-null  object \n",
      " 9   Sample             50000 non-null  int64  \n",
      " 10  Rating             50000 non-null  float64\n",
      "dtypes: float64(3), int64(1), object(7)\n",
      "memory usage: 4.2+ MB\n"
     ]
    }
   ],
   "source": [
    "df.info()"
   ]
  },
  {
   "cell_type": "markdown",
   "metadata": {
    "papermill": {
     "duration": 0.093623,
     "end_time": "2020-09-26T11:09:26.312192",
     "exception": false,
     "start_time": "2020-09-26T11:09:26.218569",
     "status": "completed"
    },
    "tags": []
   },
   "source": [
    "**Шаг 4.** Анализ DF по столбцам"
   ]
  },
  {
   "cell_type": "markdown",
   "metadata": {
    "papermill": {
     "duration": 0.091313,
     "end_time": "2020-09-26T11:09:26.495191",
     "exception": false,
     "start_time": "2020-09-26T11:09:26.403878",
     "status": "completed"
    },
    "tags": []
   },
   "source": [
    "**Restaurant_id**\n",
    "\n",
    "Проанализируем данные столбца"
   ]
  },
  {
   "cell_type": "code",
   "execution_count": 14,
   "metadata": {
    "execution": {
     "iopub.execute_input": "2020-09-26T11:09:26.707207Z",
     "iopub.status.busy": "2020-09-26T11:09:26.705828Z",
     "iopub.status.idle": "2020-09-26T11:09:26.714641Z",
     "shell.execute_reply": "2020-09-26T11:09:26.713829Z"
    },
    "papermill": {
     "duration": 0.127632,
     "end_time": "2020-09-26T11:09:26.714794",
     "exception": false,
     "start_time": "2020-09-26T11:09:26.587162",
     "status": "completed"
    },
    "tags": []
   },
   "outputs": [
    {
     "data": {
      "text/plain": [
       "13094"
      ]
     },
     "execution_count": 14,
     "metadata": {},
     "output_type": "execute_result"
    }
   ],
   "source": [
    "len(df.Restaurant_id.value_counts())"
   ]
  },
  {
   "cell_type": "code",
   "execution_count": 15,
   "metadata": {
    "execution": {
     "iopub.execute_input": "2020-09-26T11:09:26.928772Z",
     "iopub.status.busy": "2020-09-26T11:09:26.919396Z",
     "iopub.status.idle": "2020-09-26T11:09:26.945472Z",
     "shell.execute_reply": "2020-09-26T11:09:26.944717Z"
    },
    "papermill": {
     "duration": 0.137064,
     "end_time": "2020-09-26T11:09:26.945594",
     "exception": false,
     "start_time": "2020-09-26T11:09:26.808530",
     "status": "completed"
    },
    "tags": []
   },
   "outputs": [
    {
     "data": {
      "text/html": [
       "<div>\n",
       "<style scoped>\n",
       "    .dataframe tbody tr th:only-of-type {\n",
       "        vertical-align: middle;\n",
       "    }\n",
       "\n",
       "    .dataframe tbody tr th {\n",
       "        vertical-align: top;\n",
       "    }\n",
       "\n",
       "    .dataframe thead th {\n",
       "        text-align: right;\n",
       "    }\n",
       "</style>\n",
       "<table border=\"1\" class=\"dataframe\">\n",
       "  <thead>\n",
       "    <tr style=\"text-align: right;\">\n",
       "      <th></th>\n",
       "      <th>index</th>\n",
       "      <th>Restaurant_id</th>\n",
       "    </tr>\n",
       "  </thead>\n",
       "  <tbody>\n",
       "    <tr>\n",
       "      <th>0</th>\n",
       "      <td>id_436</td>\n",
       "      <td>19</td>\n",
       "    </tr>\n",
       "    <tr>\n",
       "      <th>1</th>\n",
       "      <td>id_871</td>\n",
       "      <td>19</td>\n",
       "    </tr>\n",
       "    <tr>\n",
       "      <th>2</th>\n",
       "      <td>id_633</td>\n",
       "      <td>19</td>\n",
       "    </tr>\n",
       "    <tr>\n",
       "      <th>3</th>\n",
       "      <td>id_227</td>\n",
       "      <td>19</td>\n",
       "    </tr>\n",
       "    <tr>\n",
       "      <th>4</th>\n",
       "      <td>id_71</td>\n",
       "      <td>18</td>\n",
       "    </tr>\n",
       "    <tr>\n",
       "      <th>...</th>\n",
       "      <td>...</td>\n",
       "      <td>...</td>\n",
       "    </tr>\n",
       "    <tr>\n",
       "      <th>13089</th>\n",
       "      <td>id_9900</td>\n",
       "      <td>1</td>\n",
       "    </tr>\n",
       "    <tr>\n",
       "      <th>13090</th>\n",
       "      <td>id_13763</td>\n",
       "      <td>1</td>\n",
       "    </tr>\n",
       "    <tr>\n",
       "      <th>13091</th>\n",
       "      <td>id_7430</td>\n",
       "      <td>1</td>\n",
       "    </tr>\n",
       "    <tr>\n",
       "      <th>13092</th>\n",
       "      <td>id_5509</td>\n",
       "      <td>1</td>\n",
       "    </tr>\n",
       "    <tr>\n",
       "      <th>13093</th>\n",
       "      <td>id_12550</td>\n",
       "      <td>1</td>\n",
       "    </tr>\n",
       "  </tbody>\n",
       "</table>\n",
       "<p>13094 rows × 2 columns</p>\n",
       "</div>"
      ],
      "text/plain": [
       "          index  Restaurant_id\n",
       "0        id_436             19\n",
       "1        id_871             19\n",
       "2        id_633             19\n",
       "3        id_227             19\n",
       "4         id_71             18\n",
       "...         ...            ...\n",
       "13089   id_9900              1\n",
       "13090  id_13763              1\n",
       "13091   id_7430              1\n",
       "13092   id_5509              1\n",
       "13093  id_12550              1\n",
       "\n",
       "[13094 rows x 2 columns]"
      ]
     },
     "execution_count": 15,
     "metadata": {},
     "output_type": "execute_result"
    }
   ],
   "source": [
    "restaurant = df.Restaurant_id.value_counts().reset_index()\n",
    "restaurant"
   ]
  },
  {
   "cell_type": "markdown",
   "metadata": {
    "papermill": {
     "duration": 0.092815,
     "end_time": "2020-09-26T11:09:27.133672",
     "exception": false,
     "start_time": "2020-09-26T11:09:27.040857",
     "status": "completed"
    },
    "tags": []
   },
   "source": [
    "**Вывод**\n",
    "\n",
    "Стоит обратить внимание, что данный столбик характерезует идентификационный номер ресторана / сети ресторанов. Из данного столбца сгенерируем новый признак сеть объектов общественного питания(1) или отдельный рестаран(0). "
   ]
  },
  {
   "cell_type": "code",
   "execution_count": 16,
   "metadata": {
    "execution": {
     "iopub.execute_input": "2020-09-26T11:09:27.328801Z",
     "iopub.status.busy": "2020-09-26T11:09:27.327887Z",
     "iopub.status.idle": "2020-09-26T11:09:27.523155Z",
     "shell.execute_reply": "2020-09-26T11:09:27.522500Z"
    },
    "papermill": {
     "duration": 0.295498,
     "end_time": "2020-09-26T11:09:27.523295",
     "exception": false,
     "start_time": "2020-09-26T11:09:27.227797",
     "status": "completed"
    },
    "tags": []
   },
   "outputs": [],
   "source": [
    "restaurant = restaurant[restaurant.Restaurant_id > 1]\n",
    "df['restaurant_chain'] = df['Restaurant_id'].where(df['Restaurant_id'].isin(restaurant['index']), 0)\n",
    "df.loc[df.restaurant_chain != 0, 'restaurant_chain'] = 1"
   ]
  },
  {
   "cell_type": "markdown",
   "metadata": {
    "papermill": {
     "duration": 0.093365,
     "end_time": "2020-09-26T11:09:27.711231",
     "exception": false,
     "start_time": "2020-09-26T11:09:27.617866",
     "status": "completed"
    },
    "tags": []
   },
   "source": [
    "Проверим на статистическую значимость значение нового критерия"
   ]
  },
  {
   "cell_type": "markdown",
   "metadata": {
    "papermill": {
     "duration": 0.09247,
     "end_time": "2020-09-26T11:09:27.897574",
     "exception": false,
     "start_time": "2020-09-26T11:09:27.805104",
     "status": "completed"
    },
    "tags": []
   },
   "source": [
    "При определении соотвествия среднего значения рейтинга ресторана\n",
    "   - H0 - средний рейтинг сетевых и несетевых заведений одинаковый\n",
    "   - Н1 - средний рейтинг сетевых и несетевых заведений не равен\n",
    "   - Пороговое значение alpha 5%"
   ]
  },
  {
   "cell_type": "code",
   "execution_count": 17,
   "metadata": {
    "execution": {
     "iopub.execute_input": "2020-09-26T11:09:28.108999Z",
     "iopub.status.busy": "2020-09-26T11:09:28.108172Z",
     "iopub.status.idle": "2020-09-26T11:09:28.144216Z",
     "shell.execute_reply": "2020-09-26T11:09:28.143591Z"
    },
    "papermill": {
     "duration": 0.148706,
     "end_time": "2020-09-26T11:09:28.144352",
     "exception": false,
     "start_time": "2020-09-26T11:09:27.995646",
     "status": "completed"
    },
    "tags": []
   },
   "outputs": [
    {
     "name": "stdout",
     "output_type": "stream",
     "text": [
      "Отвергаем нулевую гипотезу\n"
     ]
    }
   ],
   "source": [
    "alpha = 0.05\n",
    "if (st.ttest_ind(df[(df['Sample'] == 1) & df['restaurant_chain'] == 1].Rating, df[(df['Sample'] == 1) & df['restaurant_chain'] == 0].Rating).pvalue < alpha):\n",
    "    print(\"Отвергаем нулевую гипотезу\")\n",
    "else:\n",
    "    print(\"Не получилось отвергнуть нулевую гипотезу\")"
   ]
  },
  {
   "cell_type": "markdown",
   "metadata": {
    "papermill": {
     "duration": 0.139938,
     "end_time": "2020-09-26T11:09:28.378172",
     "exception": false,
     "start_time": "2020-09-26T11:09:28.238234",
     "status": "completed"
    },
    "tags": []
   },
   "source": [
    "**Вывод**\n",
    "\n",
    "После анализа и обработки добавлен новый признак: относится ли ресторан к сети или нет. В новом признаке выбросов нет."
   ]
  },
  {
   "cell_type": "markdown",
   "metadata": {
    "papermill": {
     "duration": 0.093227,
     "end_time": "2020-09-26T11:09:28.564793",
     "exception": false,
     "start_time": "2020-09-26T11:09:28.471566",
     "status": "completed"
    },
    "tags": []
   },
   "source": [
    "**City**\n",
    "\n",
    "Проанализируем данные столбца"
   ]
  },
  {
   "cell_type": "code",
   "execution_count": 18,
   "metadata": {
    "execution": {
     "iopub.execute_input": "2020-09-26T11:09:28.774874Z",
     "iopub.status.busy": "2020-09-26T11:09:28.773942Z",
     "iopub.status.idle": "2020-09-26T11:09:28.779189Z",
     "shell.execute_reply": "2020-09-26T11:09:28.778612Z"
    },
    "papermill": {
     "duration": 0.120756,
     "end_time": "2020-09-26T11:09:28.779346",
     "exception": false,
     "start_time": "2020-09-26T11:09:28.658590",
     "status": "completed"
    },
    "tags": []
   },
   "outputs": [
    {
     "data": {
      "text/plain": [
       "31"
      ]
     },
     "execution_count": 18,
     "metadata": {},
     "output_type": "execute_result"
    }
   ],
   "source": [
    "len(df['City'].value_counts())"
   ]
  },
  {
   "cell_type": "code",
   "execution_count": 19,
   "metadata": {
    "execution": {
     "iopub.execute_input": "2020-09-26T11:09:28.981814Z",
     "iopub.status.busy": "2020-09-26T11:09:28.976948Z",
     "iopub.status.idle": "2020-09-26T11:09:28.999561Z",
     "shell.execute_reply": "2020-09-26T11:09:28.998898Z"
    },
    "papermill": {
     "duration": 0.126165,
     "end_time": "2020-09-26T11:09:28.999691",
     "exception": false,
     "start_time": "2020-09-26T11:09:28.873526",
     "status": "completed"
    },
    "tags": []
   },
   "outputs": [],
   "source": [
    "# на города приходится 31 уникальное значение. Ранее сделанный анализ показал, \n",
    "# что сократить количество городов не имеет никакого смысла.\n",
    "# Поэтому принял решения просто их закодировать\n",
    "\n",
    "le = LabelEncoder()\n",
    "le.fit(df['City'])\n",
    "df['City_code'] = le.transform(df['City'])"
   ]
  },
  {
   "cell_type": "markdown",
   "metadata": {
    "papermill": {
     "duration": 0.094642,
     "end_time": "2020-09-26T11:09:29.189932",
     "exception": false,
     "start_time": "2020-09-26T11:09:29.095290",
     "status": "completed"
    },
    "tags": []
   },
   "source": [
    "**Вывод**\n",
    "\n",
    " Для составления более качественной модели прогноза, попробуем составить рейтинг исходя из трех новых признаков: \n",
    "   1. Столица / обычный город\n",
    "   2. Размер населения населения\n",
    "   3. Средний размер дохода .\n",
    "   4. Страна нахождения города"
   ]
  },
  {
   "cell_type": "markdown",
   "metadata": {
    "papermill": {
     "duration": 0.093976,
     "end_time": "2020-09-26T11:09:29.378573",
     "exception": false,
     "start_time": "2020-09-26T11:09:29.284597",
     "status": "completed"
    },
    "tags": []
   },
   "source": [
    "**Генерируем новые признаки. **\n",
    "\n",
    "2.1 Столица или не столица"
   ]
  },
  {
   "cell_type": "code",
   "execution_count": 20,
   "metadata": {
    "execution": {
     "iopub.execute_input": "2020-09-26T11:09:29.581232Z",
     "iopub.status.busy": "2020-09-26T11:09:29.576700Z",
     "iopub.status.idle": "2020-09-26T11:09:30.456060Z",
     "shell.execute_reply": "2020-09-26T11:09:30.456677Z"
    },
    "papermill": {
     "duration": 0.983868,
     "end_time": "2020-09-26T11:09:30.456851",
     "exception": false,
     "start_time": "2020-09-26T11:09:29.472983",
     "status": "completed"
    },
    "tags": []
   },
   "outputs": [
    {
     "name": "stdout",
     "output_type": "stream",
     "text": [
      "Отвергаем нулевую гипотезу\n"
     ]
    }
   ],
   "source": [
    "dict_Сity_capital = {'London' : 1, 'Paris' : 1, 'Madrid' : 1, 'Barcelona' : 0, \n",
    "                        'Berlin' : 1, 'Milan' : 0, 'Rome' : 1, 'Prague' : 1, \n",
    "                        'Lisbon' : 1, 'Vienna' : 1, 'Amsterdam' : 1, 'Brussels' : 1, \n",
    "                        'Hamburg' : 0, 'Munich' : 0, 'Lyon' : 0, 'Stockholm' : 0, \n",
    "                        'Budapest' : 1, 'Warsaw' : 1, 'Dublin' : 1, \n",
    "                        'Copenhagen' : 1, 'Athens' : 1, 'Edinburgh' : 1, \n",
    "                        'Zurich' : 1, 'Oporto' : 0, 'Geneva' : 0, 'Krakow' : 0, \n",
    "                        'Oslo' : 1, 'Helsinki' : 1, 'Bratislava' : 1, \n",
    "                        'Luxembourg' : 1, 'Ljubljana' : 1}\n",
    "df['capital'] = df.apply(lambda row: dict_Сity_capital[row['City']], axis = 1)\n",
    "\n",
    "hypothyroidism(df, 'capital', 0.05)"
   ]
  },
  {
   "cell_type": "markdown",
   "metadata": {
    "papermill": {
     "duration": 0.095473,
     "end_time": "2020-09-26T11:09:30.648115",
     "exception": false,
     "start_time": "2020-09-26T11:09:30.552642",
     "status": "completed"
    },
    "tags": []
   },
   "source": [
    "**Вывод**\n",
    "\n",
    "Фактор столица/не столица мы добавляем в будущую модель"
   ]
  },
  {
   "cell_type": "code",
   "execution_count": 21,
   "metadata": {
    "execution": {
     "iopub.execute_input": "2020-09-26T11:09:30.855679Z",
     "iopub.status.busy": "2020-09-26T11:09:30.854585Z",
     "iopub.status.idle": "2020-09-26T11:09:31.621587Z",
     "shell.execute_reply": "2020-09-26T11:09:31.620904Z"
    },
    "papermill": {
     "duration": 0.877647,
     "end_time": "2020-09-26T11:09:31.621724",
     "exception": false,
     "start_time": "2020-09-26T11:09:30.744077",
     "status": "completed"
    },
    "tags": []
   },
   "outputs": [],
   "source": [
    "dict_Сity_population= {'London' : 8908, 'Paris' : 2206, 'Madrid' : 3223, 'Barcelona' : 1620, \n",
    "                        'Berlin' : 6010, 'Milan' : 1366, 'Rome' : 2872, 'Prague' : 1308, \n",
    "                        'Lisbon' : 506, 'Vienna' : 1888, 'Amsterdam' : 860, 'Brussels' : 179, \n",
    "                        'Hamburg' : 1841, 'Munich' : 1457, 'Lyon' : 506, 'Stockholm' : 961, \n",
    "                        'Budapest' : 1752, 'Warsaw' : 1764, 'Dublin' : 553, \n",
    "                        'Copenhagen' : 616, 'Athens' : 665, 'Edinburgh' : 513, \n",
    "                        'Zurich' : 415, 'Oporto' : 240, 'Geneva' : 201, 'Krakow' : 769, \n",
    "                        'Oslo' : 681, 'Helsinki' : 643, 'Bratislava' : 426, \n",
    "                        'Luxembourg' : 119, 'Ljubljana' : 284}\n",
    "df['Сity_population'] = df.apply(lambda row: dict_Сity_population[row['City']], axis = 1)"
   ]
  },
  {
   "cell_type": "markdown",
   "metadata": {
    "papermill": {
     "duration": 0.094855,
     "end_time": "2020-09-26T11:09:31.812197",
     "exception": false,
     "start_time": "2020-09-26T11:09:31.717342",
     "status": "completed"
    },
    "tags": []
   },
   "source": [
    "**Вывод**\n",
    "\n",
    "Протестируем разные переменные в моделе "
   ]
  },
  {
   "cell_type": "markdown",
   "metadata": {
    "papermill": {
     "duration": 0.096932,
     "end_time": "2020-09-26T11:09:32.004352",
     "exception": false,
     "start_time": "2020-09-26T11:09:31.907420",
     "status": "completed"
    },
    "tags": []
   },
   "source": [
    "2.2 Средний размер дохода"
   ]
  },
  {
   "cell_type": "code",
   "execution_count": 22,
   "metadata": {
    "execution": {
     "iopub.execute_input": "2020-09-26T11:09:32.209826Z",
     "iopub.status.busy": "2020-09-26T11:09:32.208982Z",
     "iopub.status.idle": "2020-09-26T11:09:33.082381Z",
     "shell.execute_reply": "2020-09-26T11:09:33.081610Z"
    },
    "papermill": {
     "duration": 0.981404,
     "end_time": "2020-09-26T11:09:33.082512",
     "exception": false,
     "start_time": "2020-09-26T11:09:32.101108",
     "status": "completed"
    },
    "tags": []
   },
   "outputs": [],
   "source": [
    "dict_Сity_income = {'London' : 2511, 'Paris' : 3617, 'Madrid' : 2651, 'Barcelona' : 2663, \n",
    "                        'Berlin' : 4521, 'Milan' : 3183, 'Rome' : 2843, 'Prague' : 1400, \n",
    "                        'Lisbon' : 1526, 'Vienna' : 2646, 'Amsterdam' : 4612, 'Brussels' : 3401, \n",
    "                        'Hamburg' : 5604, 'Munich' : 5181, 'Lyon' : 2400, 'Stockholm' : 2391, \n",
    "                        'Budapest' : 670, 'Warsaw' : 1259, 'Dublin' : 3000, \n",
    "                        'Copenhagen' : 5000, 'Athens' : 1100, 'Edinburgh' : 2050, \n",
    "                        'Zurich' : 6758, 'Oporto' : 1288, 'Geneva' : 2100, 'Krakow' : 1027, \n",
    "                        'Oslo' : 4048, 'Helsinki' : 3691, 'Bratislava' : 1176, \n",
    "                        'Luxembourg' : 5000, 'Ljubljana' : 1807}\n",
    "df['Сity_income'] = df.apply(lambda row: dict_Сity_income[row['City']], axis = 1)"
   ]
  },
  {
   "cell_type": "markdown",
   "metadata": {
    "papermill": {
     "duration": 0.095351,
     "end_time": "2020-09-26T11:09:33.274869",
     "exception": false,
     "start_time": "2020-09-26T11:09:33.179518",
     "status": "completed"
    },
    "tags": []
   },
   "source": [
    "**Вывод**\n",
    "\n",
    "Протестируем разные переменные в моделе "
   ]
  },
  {
   "cell_type": "markdown",
   "metadata": {
    "papermill": {
     "duration": 0.094886,
     "end_time": "2020-09-26T11:09:33.464943",
     "exception": false,
     "start_time": "2020-09-26T11:09:33.370057",
     "status": "completed"
    },
    "tags": []
   },
   "source": [
    "Country"
   ]
  },
  {
   "cell_type": "code",
   "execution_count": 23,
   "metadata": {
    "execution": {
     "iopub.execute_input": "2020-09-26T11:09:33.668629Z",
     "iopub.status.busy": "2020-09-26T11:09:33.665170Z",
     "iopub.status.idle": "2020-09-26T11:09:34.542743Z",
     "shell.execute_reply": "2020-09-26T11:09:34.542003Z"
    },
    "papermill": {
     "duration": 0.982448,
     "end_time": "2020-09-26T11:09:34.542879",
     "exception": false,
     "start_time": "2020-09-26T11:09:33.560431",
     "status": "completed"
    },
    "tags": []
   },
   "outputs": [],
   "source": [
    "dict_Сountries = {'London' : 'England', 'Paris' : 'France', 'Madrid' : 'Spain', \n",
    "                  'Barcelona' : 'Spain', 'Berlin' : 'Germany', 'Milan' : 'Italy', \n",
    "                  'Rome' : 'Italy', 'Prague' : 'Czech_c', 'Lisbon' : 'Portugal', \n",
    "                  'Vienna' : 'Austria', 'Amsterdam' : 'Holland', \n",
    "                  'Brussels' : 'Belgium', 'Hamburg' : 'Germany', 'Munich' : 'Germany', \n",
    "                  'Lyon' : 'France', 'Stockholm' : 'Sweden', 'Budapest' : 'Romania', \n",
    "                  'Warsaw' : 'Poland', 'Dublin' : 'Ireland', 'Copenhagen' : 'Denmark', \n",
    "                  'Athens' : 'Greece', 'Edinburgh' : 'Scotland', 'Zurich' : 'Switzerland', \n",
    "                  'Oporto' : 'Portugal', 'Geneva' : 'Switzerland', 'Krakow' : 'Poland', \n",
    "                  'Oslo' : 'Norway', 'Helsinki' : 'Finland', 'Bratislava' : 'Slovakia', \n",
    "                  'Luxembourg' : 'Luxembourg_c', 'Ljubljana' : 'Slovenia'}\n",
    "df['Сountry'] = df.apply(lambda row: dict_Сountries[row['City']], axis = 1)\n",
    "\n",
    "le = LabelEncoder()\n",
    "le.fit(df['Сountry'])\n",
    "df['code_Сountry'] = le.transform(df['Сountry'])"
   ]
  },
  {
   "cell_type": "markdown",
   "metadata": {
    "papermill": {
     "duration": 0.095577,
     "end_time": "2020-09-26T11:09:34.734574",
     "exception": false,
     "start_time": "2020-09-26T11:09:34.638997",
     "status": "completed"
    },
    "tags": []
   },
   "source": [
    "**Вывод**\n",
    "\n",
    "Добовляем новые данные в систему"
   ]
  },
  {
   "cell_type": "markdown",
   "metadata": {
    "papermill": {
     "duration": 0.096312,
     "end_time": "2020-09-26T11:09:34.927980",
     "exception": false,
     "start_time": "2020-09-26T11:09:34.831668",
     "status": "completed"
    },
    "tags": []
   },
   "source": [
    "**Cuisine Style\t**"
   ]
  },
  {
   "cell_type": "code",
   "execution_count": 24,
   "metadata": {
    "execution": {
     "iopub.execute_input": "2020-09-26T11:09:35.137605Z",
     "iopub.status.busy": "2020-09-26T11:09:35.136684Z",
     "iopub.status.idle": "2020-09-26T11:09:35.141938Z",
     "shell.execute_reply": "2020-09-26T11:09:35.141342Z"
    },
    "papermill": {
     "duration": 0.11589,
     "end_time": "2020-09-26T11:09:35.142105",
     "exception": false,
     "start_time": "2020-09-26T11:09:35.026215",
     "status": "completed"
    },
    "tags": []
   },
   "outputs": [],
   "source": [
    "# в столбце порядка более 22% пропущенных значений\n",
    "# данный признак может являться хорошим признаком для модели\n",
    "df['NAN_Cuisine'] = pd.isna(df['Cuisine Style']).astype('int')"
   ]
  },
  {
   "cell_type": "code",
   "execution_count": 25,
   "metadata": {
    "execution": {
     "iopub.execute_input": "2020-09-26T11:09:35.342045Z",
     "iopub.status.busy": "2020-09-26T11:09:35.341144Z",
     "iopub.status.idle": "2020-09-26T11:09:35.389331Z",
     "shell.execute_reply": "2020-09-26T11:09:35.388343Z"
    },
    "papermill": {
     "duration": 0.150115,
     "end_time": "2020-09-26T11:09:35.389503",
     "exception": false,
     "start_time": "2020-09-26T11:09:35.239388",
     "status": "completed"
    },
    "tags": []
   },
   "outputs": [
    {
     "name": "stdout",
     "output_type": "stream",
     "text": [
      "Отвергаем нулевую гипотезу\n"
     ]
    }
   ],
   "source": [
    "hypothyroidism(df, 'NAN_Cuisine', 0.05)"
   ]
  },
  {
   "cell_type": "markdown",
   "metadata": {
    "papermill": {
     "duration": 0.096351,
     "end_time": "2020-09-26T11:09:35.582417",
     "exception": false,
     "start_time": "2020-09-26T11:09:35.486066",
     "status": "completed"
    },
    "tags": []
   },
   "source": [
    "**Вывод**\n",
    "\n",
    "Данный признак можно включить в модель"
   ]
  },
  {
   "cell_type": "code",
   "execution_count": 26,
   "metadata": {
    "execution": {
     "iopub.execute_input": "2020-09-26T11:09:35.788361Z",
     "iopub.status.busy": "2020-09-26T11:09:35.787485Z",
     "iopub.status.idle": "2020-09-26T11:09:36.857910Z",
     "shell.execute_reply": "2020-09-26T11:09:36.857269Z"
    },
    "papermill": {
     "duration": 1.179459,
     "end_time": "2020-09-26T11:09:36.858060",
     "exception": false,
     "start_time": "2020-09-26T11:09:35.678601",
     "status": "completed"
    },
    "tags": []
   },
   "outputs": [],
   "source": [
    "# проведем предобработку значений\n",
    "df['Cuisine Style'] = df['Cuisine Style'].fillna(\"['Other']\")\n",
    "\n",
    "df['Cuisine Style'] = df['Cuisine Style'].str.findall(r\"'(\\b.*?\\b)'\") \n",
    "\n",
    "# создадим новый признак количество стилей кухонь\n",
    "\n",
    "df['quantity_Cuisine_Style'] = df.apply(lambda row: len(row['Cuisine Style']), axis = 1)"
   ]
  },
  {
   "cell_type": "code",
   "execution_count": 27,
   "metadata": {
    "execution": {
     "iopub.execute_input": "2020-09-26T11:09:37.062474Z",
     "iopub.status.busy": "2020-09-26T11:09:37.061684Z",
     "iopub.status.idle": "2020-09-26T11:09:37.435234Z",
     "shell.execute_reply": "2020-09-26T11:09:37.434366Z"
    },
    "papermill": {
     "duration": 0.480892,
     "end_time": "2020-09-26T11:09:37.435377",
     "exception": false,
     "start_time": "2020-09-26T11:09:36.954485",
     "status": "completed"
    },
    "tags": []
   },
   "outputs": [
    {
     "data": {
      "image/png": "[encoded data removed]",
      "text/plain": [
       "<Figure size 432x288 with 2 Axes>"
      ]
     },
     "metadata": {
      "needs_background": "light"
     },
     "output_type": "display_data"
    }
   ],
   "source": [
    "diagram_bar(df[df['NAN_Cuisine'] != 1], 'quantity_Cuisine_Style')"
   ]
  },
  {
   "cell_type": "code",
   "execution_count": 28,
   "metadata": {
    "execution": {
     "iopub.execute_input": "2020-09-26T11:09:37.641902Z",
     "iopub.status.busy": "2020-09-26T11:09:37.640989Z",
     "iopub.status.idle": "2020-09-26T11:09:37.648564Z",
     "shell.execute_reply": "2020-09-26T11:09:37.649116Z"
    },
    "papermill": {
     "duration": 0.114608,
     "end_time": "2020-09-26T11:09:37.649300",
     "exception": false,
     "start_time": "2020-09-26T11:09:37.534692",
     "status": "completed"
    },
    "tags": []
   },
   "outputs": [],
   "source": [
    "df.loc[(df['NAN_Cuisine'] == 1), 'quantity_Cuisine_Style'] = df.loc[(df['NAN_Cuisine'] != 1), 'quantity_Cuisine_Style'].median()"
   ]
  },
  {
   "cell_type": "code",
   "execution_count": 29,
   "metadata": {
    "execution": {
     "iopub.execute_input": "2020-09-26T11:09:37.859336Z",
     "iopub.status.busy": "2020-09-26T11:09:37.856948Z",
     "iopub.status.idle": "2020-09-26T11:09:38.218108Z",
     "shell.execute_reply": "2020-09-26T11:09:38.217478Z"
    },
    "papermill": {
     "duration": 0.470439,
     "end_time": "2020-09-26T11:09:38.218253",
     "exception": false,
     "start_time": "2020-09-26T11:09:37.747814",
     "status": "completed"
    },
    "tags": []
   },
   "outputs": [
    {
     "data": {
      "image/png": "[encoded data removed]",
      "text/plain": [
       "<Figure size 432x288 with 2 Axes>"
      ]
     },
     "metadata": {
      "needs_background": "light"
     },
     "output_type": "display_data"
    }
   ],
   "source": [
    "diagram_bar(df, 'quantity_Cuisine_Style')"
   ]
  },
  {
   "cell_type": "markdown",
   "metadata": {
    "papermill": {
     "duration": 0.098988,
     "end_time": "2020-09-26T11:09:38.418492",
     "exception": false,
     "start_time": "2020-09-26T11:09:38.319504",
     "status": "completed"
    },
    "tags": []
   },
   "source": [
    "Ranking"
   ]
  },
  {
   "cell_type": "code",
   "execution_count": 30,
   "metadata": {
    "execution": {
     "iopub.execute_input": "2020-09-26T11:09:38.623422Z",
     "iopub.status.busy": "2020-09-26T11:09:38.622592Z",
     "iopub.status.idle": "2020-09-26T11:09:38.633925Z",
     "shell.execute_reply": "2020-09-26T11:09:38.633206Z"
    },
    "papermill": {
     "duration": 0.116482,
     "end_time": "2020-09-26T11:09:38.634075",
     "exception": false,
     "start_time": "2020-09-26T11:09:38.517593",
     "status": "completed"
    },
    "tags": []
   },
   "outputs": [
    {
     "data": {
      "text/plain": [
       "count    50000.000000\n",
       "mean      3664.427520\n",
       "std       3700.092452\n",
       "min          1.000000\n",
       "25%        972.000000\n",
       "50%       2278.000000\n",
       "75%       5241.000000\n",
       "max      16444.000000\n",
       "Name: Ranking, dtype: float64"
      ]
     },
     "execution_count": 30,
     "metadata": {},
     "output_type": "execute_result"
    }
   ],
   "source": [
    "df.Ranking.describe()"
   ]
  },
  {
   "cell_type": "code",
   "execution_count": 31,
   "metadata": {
    "execution": {
     "iopub.execute_input": "2020-09-26T11:09:38.942486Z",
     "iopub.status.busy": "2020-09-26T11:09:38.941420Z",
     "iopub.status.idle": "2020-09-26T11:09:39.261128Z",
     "shell.execute_reply": "2020-09-26T11:09:39.260190Z"
    },
    "papermill": {
     "duration": 0.527832,
     "end_time": "2020-09-26T11:09:39.261317",
     "exception": false,
     "start_time": "2020-09-26T11:09:38.733485",
     "status": "completed"
    },
    "tags": []
   },
   "outputs": [
    {
     "data": {
      "image/png": "[encoded data removed]",
      "text/plain": [
       "<Figure size 432x288 with 2 Axes>"
      ]
     },
     "metadata": {
      "needs_background": "light"
     },
     "output_type": "display_data"
    }
   ],
   "source": [
    "diagram_bar(df, 'Ranking')"
   ]
  },
  {
   "cell_type": "code",
   "execution_count": 32,
   "metadata": {
    "execution": {
     "iopub.execute_input": "2020-09-26T11:09:39.496234Z",
     "iopub.status.busy": "2020-09-26T11:09:39.490395Z",
     "iopub.status.idle": "2020-09-26T11:09:39.942581Z",
     "shell.execute_reply": "2020-09-26T11:09:39.941914Z"
    },
    "papermill": {
     "duration": 0.565824,
     "end_time": "2020-09-26T11:09:39.942706",
     "exception": false,
     "start_time": "2020-09-26T11:09:39.376882",
     "status": "completed"
    },
    "tags": []
   },
   "outputs": [
    {
     "data": {
      "text/plain": [
       "<matplotlib.axes._axes.Axes at 0x7fa65834f090>"
      ]
     },
     "execution_count": 32,
     "metadata": {},
     "output_type": "execute_result"
    },
    {
     "data": {
      "image/png": "[encoded data removed]",
      "text/plain": [
       "<Figure size 432x288 with 2 Axes>"
      ]
     },
     "metadata": {
      "needs_background": "light"
     },
     "output_type": "display_data"
    }
   ],
   "source": [
    "# большое количество выбросов. Просмотрим распеределение до 11000 и более\n",
    "fig = plt.figure()\n",
    "main_axes = fig.add_axes([0,0,1,1])\n",
    "df[df['Ranking'] < 11000]['City'].value_counts(ascending=True).plot(kind='barh')\n",
    "insert_axes = fig.add_axes([1.1,0,1,1])\n",
    "df[df['Ranking'] >= 11000]['City'].value_counts(ascending=True).plot(kind='barh')"
   ]
  },
  {
   "cell_type": "code",
   "execution_count": 33,
   "metadata": {
    "execution": {
     "iopub.execute_input": "2020-09-26T11:09:40.180070Z",
     "iopub.status.busy": "2020-09-26T11:09:40.179312Z",
     "iopub.status.idle": "2020-09-26T11:09:42.695977Z",
     "shell.execute_reply": "2020-09-26T11:09:42.695351Z"
    },
    "papermill": {
     "duration": 2.648886,
     "end_time": "2020-09-26T11:09:42.696148",
     "exception": false,
     "start_time": "2020-09-26T11:09:40.047262",
     "status": "completed"
    },
    "tags": []
   },
   "outputs": [
    {
     "data": {
      "image/png": "[encoded data removed]",
      "text/plain": [
       "<Figure size 432x288 with 1 Axes>"
      ]
     },
     "metadata": {
      "needs_background": "light"
     },
     "output_type": "display_data"
    }
   ],
   "source": [
    "# Выбросы находятся в 2-х городах Лондон и Париж. Выбросы могут быть связаны с количеством заведений в городах\n",
    "for x in (df_train['City'].value_counts())[0:10].index:\n",
    "    df_train['Ranking'][df_train['City'] == x].hist(bins=100)\n",
    "plt.show()"
   ]
  },
  {
   "cell_type": "code",
   "execution_count": 34,
   "metadata": {
    "execution": {
     "iopub.execute_input": "2020-09-26T11:09:42.925049Z",
     "iopub.status.busy": "2020-09-26T11:09:42.924283Z",
     "iopub.status.idle": "2020-09-26T11:09:43.731367Z",
     "shell.execute_reply": "2020-09-26T11:09:43.730665Z"
    },
    "papermill": {
     "duration": 0.925296,
     "end_time": "2020-09-26T11:09:43.731503",
     "exception": false,
     "start_time": "2020-09-26T11:09:42.806207",
     "status": "completed"
    },
    "tags": []
   },
   "outputs": [],
   "source": [
    "# Нормализуем признак Ranking\n",
    "\n",
    "Ranking_City_mean = df.groupby(['City'])['Ranking'].mean()\n",
    "Restorant_City_count = df['City'].value_counts(ascending=False)\n",
    "df['Ranking_City_mean'] = df['City'].apply(lambda x: Ranking_City_mean[x])\n",
    "df['Restorant_City_count'] = df['City'].apply(lambda x: Restorant_City_count[x])\n",
    "df['Ranking_Rest_City_norm'] = (df['Ranking'] - df['Ranking_City_mean']) / df['Restorant_City_count']"
   ]
  },
  {
   "cell_type": "code",
   "execution_count": 35,
   "metadata": {
    "execution": {
     "iopub.execute_input": "2020-09-26T11:09:43.974897Z",
     "iopub.status.busy": "2020-09-26T11:09:43.973856Z",
     "iopub.status.idle": "2020-09-26T11:09:46.500396Z",
     "shell.execute_reply": "2020-09-26T11:09:46.500920Z"
    },
    "papermill": {
     "duration": 2.665067,
     "end_time": "2020-09-26T11:09:46.501117",
     "exception": false,
     "start_time": "2020-09-26T11:09:43.836050",
     "status": "completed"
    },
    "tags": []
   },
   "outputs": [
    {
     "data": {
      "image/png": "[encoded data removed]",
      "text/plain": [
       "<Figure size 432x288 with 1 Axes>"
      ]
     },
     "metadata": {
      "needs_background": "light"
     },
     "output_type": "display_data"
    }
   ],
   "source": [
    "for x in (df['City'].value_counts())[0:10].index:\n",
    "    df['Ranking_Rest_City_norm'][df['City'] == x].hist(bins=100)\n",
    "plt.show()"
   ]
  },
  {
   "cell_type": "markdown",
   "metadata": {
    "papermill": {
     "duration": 0.103904,
     "end_time": "2020-09-26T11:09:46.709398",
     "exception": false,
     "start_time": "2020-09-26T11:09:46.605494",
     "status": "completed"
    },
    "tags": []
   },
   "source": [
    "**Вывод**\n",
    "\n",
    "Большое значение подпадает под выбросы предлагаю ничего не делать с данными"
   ]
  },
  {
   "cell_type": "markdown",
   "metadata": {
    "papermill": {
     "duration": 0.1053,
     "end_time": "2020-09-26T11:09:46.920252",
     "exception": false,
     "start_time": "2020-09-26T11:09:46.814952",
     "status": "completed"
    },
    "tags": []
   },
   "source": [
    "Price Range"
   ]
  },
  {
   "cell_type": "code",
   "execution_count": 36,
   "metadata": {
    "execution": {
     "iopub.execute_input": "2020-09-26T11:09:47.142722Z",
     "iopub.status.busy": "2020-09-26T11:09:47.141714Z",
     "iopub.status.idle": "2020-09-26T11:09:47.194936Z",
     "shell.execute_reply": "2020-09-26T11:09:47.194156Z"
    },
    "papermill": {
     "duration": 0.168589,
     "end_time": "2020-09-26T11:09:47.195094",
     "exception": false,
     "start_time": "2020-09-26T11:09:47.026505",
     "status": "completed"
    },
    "tags": []
   },
   "outputs": [],
   "source": [
    "dict_Price = {'$':1,'$$ - $$$':2,'$$$$':3}\n",
    "df['Price Range']=df['Price Range'].map(lambda x: dict_Price.get(x,x))"
   ]
  },
  {
   "cell_type": "code",
   "execution_count": 37,
   "metadata": {
    "execution": {
     "iopub.execute_input": "2020-09-26T11:09:47.416517Z",
     "iopub.status.busy": "2020-09-26T11:09:47.415496Z",
     "iopub.status.idle": "2020-09-26T11:09:47.420751Z",
     "shell.execute_reply": "2020-09-26T11:09:47.419986Z"
    },
    "papermill": {
     "duration": 0.119148,
     "end_time": "2020-09-26T11:09:47.420881",
     "exception": false,
     "start_time": "2020-09-26T11:09:47.301733",
     "status": "completed"
    },
    "tags": []
   },
   "outputs": [],
   "source": [
    "# для пропусков данных предлагаю заполнить пропуски модой\n",
    "\n",
    "df['Price Range'] = df['Price Range'].fillna(2)"
   ]
  },
  {
   "cell_type": "code",
   "execution_count": 38,
   "metadata": {
    "execution": {
     "iopub.execute_input": "2020-09-26T11:09:47.638146Z",
     "iopub.status.busy": "2020-09-26T11:09:47.637428Z",
     "iopub.status.idle": "2020-09-26T11:09:47.705930Z",
     "shell.execute_reply": "2020-09-26T11:09:47.704911Z"
    },
    "papermill": {
     "duration": 0.17971,
     "end_time": "2020-09-26T11:09:47.706117",
     "exception": false,
     "start_time": "2020-09-26T11:09:47.526407",
     "status": "completed"
    },
    "tags": []
   },
   "outputs": [
    {
     "name": "stdout",
     "output_type": "stream",
     "text": [
      "<class 'pandas.core.frame.DataFrame'>\n",
      "RangeIndex: 50000 entries, 0 to 49999\n",
      "Data columns (total 23 columns):\n",
      " #   Column                  Non-Null Count  Dtype  \n",
      "---  ------                  --------------  -----  \n",
      " 0   Restaurant_id           50000 non-null  object \n",
      " 1   City                    50000 non-null  object \n",
      " 2   Cuisine Style           50000 non-null  object \n",
      " 3   Ranking                 50000 non-null  float64\n",
      " 4   Price Range             50000 non-null  float64\n",
      " 5   Number of Reviews       46800 non-null  float64\n",
      " 6   Reviews                 49998 non-null  object \n",
      " 7   URL_TA                  50000 non-null  object \n",
      " 8   ID_TA                   50000 non-null  object \n",
      " 9   Sample                  50000 non-null  int64  \n",
      " 10  Rating                  50000 non-null  float64\n",
      " 11  restaurant_chain        50000 non-null  object \n",
      " 12  City_code               50000 non-null  int64  \n",
      " 13  capital                 50000 non-null  int64  \n",
      " 14  Сity_population         50000 non-null  int64  \n",
      " 15  Сity_income             50000 non-null  int64  \n",
      " 16  Сountry                 50000 non-null  object \n",
      " 17  code_Сountry            50000 non-null  int64  \n",
      " 18  NAN_Cuisine             50000 non-null  int64  \n",
      " 19  quantity_Cuisine_Style  50000 non-null  float64\n",
      " 20  Ranking_City_mean       50000 non-null  float64\n",
      " 21  Restorant_City_count    50000 non-null  int64  \n",
      " 22  Ranking_Rest_City_norm  50000 non-null  float64\n",
      "dtypes: float64(7), int64(8), object(8)\n",
      "memory usage: 8.8+ MB\n"
     ]
    }
   ],
   "source": [
    "df.info()"
   ]
  },
  {
   "cell_type": "markdown",
   "metadata": {
    "papermill": {
     "duration": 0.107936,
     "end_time": "2020-09-26T11:09:47.921542",
     "exception": false,
     "start_time": "2020-09-26T11:09:47.813606",
     "status": "completed"
    },
    "tags": []
   },
   "source": [
    "Number of Reviews "
   ]
  },
  {
   "cell_type": "code",
   "execution_count": 39,
   "metadata": {
    "execution": {
     "iopub.execute_input": "2020-09-26T11:09:48.148928Z",
     "iopub.status.busy": "2020-09-26T11:09:48.148159Z",
     "iopub.status.idle": "2020-09-26T11:09:48.159648Z",
     "shell.execute_reply": "2020-09-26T11:09:48.159052Z"
    },
    "papermill": {
     "duration": 0.125384,
     "end_time": "2020-09-26T11:09:48.159782",
     "exception": false,
     "start_time": "2020-09-26T11:09:48.034398",
     "status": "completed"
    },
    "tags": []
   },
   "outputs": [
    {
     "data": {
      "text/plain": [
       "count    46800.000000\n",
       "mean       124.471197\n",
       "std        294.114345\n",
       "min          2.000000\n",
       "25%          9.000000\n",
       "50%         33.000000\n",
       "75%        115.000000\n",
       "max       9660.000000\n",
       "Name: Number of Reviews, dtype: float64"
      ]
     },
     "execution_count": 39,
     "metadata": {},
     "output_type": "execute_result"
    }
   ],
   "source": [
    "df['Number of Reviews'].describe()"
   ]
  },
  {
   "cell_type": "code",
   "execution_count": 40,
   "metadata": {
    "execution": {
     "iopub.execute_input": "2020-09-26T11:09:48.386092Z",
     "iopub.status.busy": "2020-09-26T11:09:48.378726Z",
     "iopub.status.idle": "2020-09-26T11:09:48.708231Z",
     "shell.execute_reply": "2020-09-26T11:09:48.707493Z"
    },
    "papermill": {
     "duration": 0.441389,
     "end_time": "2020-09-26T11:09:48.708351",
     "exception": false,
     "start_time": "2020-09-26T11:09:48.266962",
     "status": "completed"
    },
    "tags": []
   },
   "outputs": [
    {
     "data": {
      "image/png": "[encoded data removed]",
      "text/plain": [
       "<Figure size 432x288 with 2 Axes>"
      ]
     },
     "metadata": {
      "needs_background": "light"
     },
     "output_type": "display_data"
    }
   ],
   "source": [
    "diagram_bar(df, 'Number of Reviews')"
   ]
  },
  {
   "cell_type": "code",
   "execution_count": 41,
   "metadata": {
    "execution": {
     "iopub.execute_input": "2020-09-26T11:09:48.932762Z",
     "iopub.status.busy": "2020-09-26T11:09:48.931991Z",
     "iopub.status.idle": "2020-09-26T11:09:49.629164Z",
     "shell.execute_reply": "2020-09-26T11:09:49.628553Z"
    },
    "papermill": {
     "duration": 0.812953,
     "end_time": "2020-09-26T11:09:49.629292",
     "exception": false,
     "start_time": "2020-09-26T11:09:48.816339",
     "status": "completed"
    },
    "tags": []
   },
   "outputs": [
    {
     "name": "stdout",
     "output_type": "stream",
     "text": [
      "count    9343.000000\n",
      "mean      123.050840\n",
      "std       287.819368\n",
      "min         2.000000\n",
      "25%         9.000000\n",
      "50%        32.000000\n",
      "75%       114.000000\n",
      "max      6437.000000\n",
      "Name: Number of Reviews, dtype: float64\n",
      "count    37457.000000\n",
      "mean       124.825480\n",
      "std        295.666352\n",
      "min          2.000000\n",
      "25%          9.000000\n",
      "50%         33.000000\n",
      "75%        115.000000\n",
      "max       9660.000000\n",
      "Name: Number of Reviews, dtype: float64\n"
     ]
    },
    {
     "data": {
      "image/png": "[encoded data removed]",
      "text/plain": [
       "<Figure size 432x288 with 2 Axes>"
      ]
     },
     "metadata": {
      "needs_background": "light"
     },
     "output_type": "display_data"
    },
    {
     "data": {
      "image/png": "[encoded data removed]",
      "text/plain": [
       "<Figure size 432x288 with 2 Axes>"
      ]
     },
     "metadata": {
      "needs_background": "light"
     },
     "output_type": "display_data"
    }
   ],
   "source": [
    "for element in [0,1]:\n",
    "    diagram_bar(df[df['Sample'] == element], 'Number of Reviews')\n",
    "    print(df[df['Sample'] == element]['Number of Reviews'].describe())"
   ]
  },
  {
   "cell_type": "code",
   "execution_count": 42,
   "metadata": {
    "execution": {
     "iopub.execute_input": "2020-09-26T11:09:49.862384Z",
     "iopub.status.busy": "2020-09-26T11:09:49.861641Z",
     "iopub.status.idle": "2020-09-26T11:09:50.177048Z",
     "shell.execute_reply": "2020-09-26T11:09:50.176400Z"
    },
    "papermill": {
     "duration": 0.437678,
     "end_time": "2020-09-26T11:09:50.177198",
     "exception": false,
     "start_time": "2020-09-26T11:09:49.739520",
     "status": "completed"
    },
    "tags": []
   },
   "outputs": [
    {
     "data": {
      "text/plain": [
       "<matplotlib.axes._subplots.AxesSubplot at 0x7fa656265450>"
      ]
     },
     "execution_count": 42,
     "metadata": {},
     "output_type": "execute_result"
    },
    {
     "data": {
      "image/png": "[encoded data removed]",
      "text/plain": [
       "<Figure size 432x288 with 1 Axes>"
      ]
     },
     "metadata": {
      "needs_background": "light"
     },
     "output_type": "display_data"
    }
   ],
   "source": [
    "df['LOG_Number_Reviews'] = df['Number of Reviews'].apply(lambda x: math.log1p(x))\n",
    "df['LOG_Number_Reviews'].hist(bins=50)"
   ]
  },
  {
   "cell_type": "markdown",
   "metadata": {
    "papermill": {
     "duration": 0.111889,
     "end_time": "2020-09-26T11:09:50.403605",
     "exception": false,
     "start_time": "2020-09-26T11:09:50.291716",
     "status": "completed"
    },
    "tags": []
   },
   "source": [
    "**Вывод**\n",
    "\n",
    "Странный вид прологарифмированного распределения, как будто в нем два распределения причем одно логнормальное, а другое распределение Бернули"
   ]
  },
  {
   "cell_type": "code",
   "execution_count": 43,
   "metadata": {
    "execution": {
     "iopub.execute_input": "2020-09-26T11:09:50.649403Z",
     "iopub.status.busy": "2020-09-26T11:09:50.648382Z",
     "iopub.status.idle": "2020-09-26T11:09:51.309101Z",
     "shell.execute_reply": "2020-09-26T11:09:51.307994Z"
    },
    "papermill": {
     "duration": 0.792687,
     "end_time": "2020-09-26T11:09:51.309301",
     "exception": false,
     "start_time": "2020-09-26T11:09:50.516614",
     "status": "completed"
    },
    "tags": []
   },
   "outputs": [
    {
     "data": {
      "image/png": "[encoded data removed]",
      "text/plain": [
       "<Figure size 432x288 with 1 Axes>"
      ]
     },
     "metadata": {
      "needs_background": "light"
     },
     "output_type": "display_data"
    }
   ],
   "source": [
    "for x in df['City'].value_counts().index[0:10]:\n",
    "    df['Number of Reviews'][df['City'] == x].hist(bins=20)\n",
    "plt.show()"
   ]
  },
  {
   "cell_type": "code",
   "execution_count": 44,
   "metadata": {
    "execution": {
     "iopub.execute_input": "2020-09-26T11:09:51.595452Z",
     "iopub.status.busy": "2020-09-26T11:09:51.594605Z",
     "iopub.status.idle": "2020-09-26T11:09:54.102994Z",
     "shell.execute_reply": "2020-09-26T11:09:54.102252Z"
    },
    "papermill": {
     "duration": 2.666766,
     "end_time": "2020-09-26T11:09:54.103167",
     "exception": false,
     "start_time": "2020-09-26T11:09:51.436401",
     "status": "completed"
    },
    "tags": []
   },
   "outputs": [
    {
     "data": {
      "image/png": "[encoded data removed]",
      "text/plain": [
       "<Figure size 432x288 with 1 Axes>"
      ]
     },
     "metadata": {
      "needs_background": "light"
     },
     "output_type": "display_data"
    }
   ],
   "source": [
    "for x in df['City'].value_counts().index[0:10]:\n",
    "    df['LOG_Number_Reviews'][df['City'] == x].hist(bins=100)\n",
    "plt.show()"
   ]
  },
  {
   "cell_type": "code",
   "execution_count": 45,
   "metadata": {
    "execution": {
     "iopub.execute_input": "2020-09-26T11:09:54.340051Z",
     "iopub.status.busy": "2020-09-26T11:09:54.339237Z",
     "iopub.status.idle": "2020-09-26T11:09:54.344886Z",
     "shell.execute_reply": "2020-09-26T11:09:54.344243Z"
    },
    "papermill": {
     "duration": 0.12712,
     "end_time": "2020-09-26T11:09:54.345017",
     "exception": false,
     "start_time": "2020-09-26T11:09:54.217897",
     "status": "completed"
    },
    "tags": []
   },
   "outputs": [],
   "source": [
    "df['NAN_Number_Reviews'] = pd.isna(df['Number of Reviews']).astype('float64')"
   ]
  },
  {
   "cell_type": "code",
   "execution_count": 46,
   "metadata": {
    "execution": {
     "iopub.execute_input": "2020-09-26T11:09:54.580405Z",
     "iopub.status.busy": "2020-09-26T11:09:54.579647Z",
     "iopub.status.idle": "2020-09-26T11:09:54.586487Z",
     "shell.execute_reply": "2020-09-26T11:09:54.585845Z"
    },
    "papermill": {
     "duration": 0.127039,
     "end_time": "2020-09-26T11:09:54.586619",
     "exception": false,
     "start_time": "2020-09-26T11:09:54.459580",
     "status": "completed"
    },
    "tags": []
   },
   "outputs": [],
   "source": [
    "df['Number of Reviews'] = df['Number of Reviews'].fillna(df['Number of Reviews'].median())\n",
    "df['LOG_Number_Reviews'] = df['LOG_Number_Reviews'].fillna(df['LOG_Number_Reviews'].median())"
   ]
  },
  {
   "cell_type": "markdown",
   "metadata": {
    "papermill": {
     "duration": 0.114221,
     "end_time": "2020-09-26T11:09:54.815338",
     "exception": false,
     "start_time": "2020-09-26T11:09:54.701117",
     "status": "completed"
    },
    "tags": []
   },
   "source": [
    "Reviews"
   ]
  },
  {
   "cell_type": "code",
   "execution_count": 47,
   "metadata": {
    "execution": {
     "iopub.execute_input": "2020-09-26T11:09:55.061942Z",
     "iopub.status.busy": "2020-09-26T11:09:55.061167Z",
     "iopub.status.idle": "2020-09-26T11:09:55.084317Z",
     "shell.execute_reply": "2020-09-26T11:09:55.083517Z"
    },
    "papermill": {
     "duration": 0.154153,
     "end_time": "2020-09-26T11:09:55.084466",
     "exception": false,
     "start_time": "2020-09-26T11:09:54.930313",
     "status": "completed"
    },
    "tags": []
   },
   "outputs": [],
   "source": [
    "# в ревью нет пропусков, но, более 6000 строк со значением [[], []]. По сути это пустые строки сохраним их \n",
    "df['empty_Reviews'] = (df['Reviews']=='[[], []]').astype('float64')\n",
    "\n",
    "# анализ тестовой базы выявил два пропуска, несмотря на то, что pandas.profiling на тренировочной базе пропусков не выявил, заполним их '[[], []]' и закинем в empty_Reviews\n",
    "df['Reviews'] = df['Reviews'].fillna('[[], []]')\n",
    "df['empty_Reviews'] = (df['Reviews']=='[[], []]').astype('float64')"
   ]
  },
  {
   "cell_type": "code",
   "execution_count": 48,
   "metadata": {
    "execution": {
     "iopub.execute_input": "2020-09-26T11:09:55.335992Z",
     "iopub.status.busy": "2020-09-26T11:09:55.327932Z",
     "iopub.status.idle": "2020-09-26T11:09:55.745188Z",
     "shell.execute_reply": "2020-09-26T11:09:55.744412Z"
    },
    "papermill": {
     "duration": 0.545923,
     "end_time": "2020-09-26T11:09:55.745320",
     "exception": false,
     "start_time": "2020-09-26T11:09:55.199397",
     "status": "completed"
    },
    "tags": []
   },
   "outputs": [],
   "source": [
    "# вытащим дату из ревью и создадим новые критерии\n",
    "df['date_of_Review'] = df['Reviews'].str.findall('\\d+/\\d+/\\d+')\n",
    "df['len_date'] = df['date_of_Review'].apply(lambda x: len(x))"
   ]
  },
  {
   "cell_type": "code",
   "execution_count": 49,
   "metadata": {
    "execution": {
     "iopub.execute_input": "2020-09-26T11:09:55.983853Z",
     "iopub.status.busy": "2020-09-26T11:09:55.982778Z",
     "iopub.status.idle": "2020-09-26T11:09:55.996602Z",
     "shell.execute_reply": "2020-09-26T11:09:55.995757Z"
    },
    "papermill": {
     "duration": 0.135757,
     "end_time": "2020-09-26T11:09:55.996745",
     "exception": false,
     "start_time": "2020-09-26T11:09:55.860988",
     "status": "completed"
    },
    "tags": []
   },
   "outputs": [
    {
     "data": {
      "text/plain": [
       "count    50000.000000\n",
       "mean         1.561920\n",
       "std          0.755577\n",
       "min          0.000000\n",
       "25%          1.000000\n",
       "50%          2.000000\n",
       "75%          2.000000\n",
       "max          3.000000\n",
       "Name: len_date, dtype: float64"
      ]
     },
     "execution_count": 49,
     "metadata": {},
     "output_type": "execute_result"
    }
   ],
   "source": [
    "df['len_date'].describe()"
   ]
  },
  {
   "cell_type": "code",
   "execution_count": 50,
   "metadata": {
    "execution": {
     "iopub.execute_input": "2020-09-26T11:09:56.239264Z",
     "iopub.status.busy": "2020-09-26T11:09:56.238525Z",
     "iopub.status.idle": "2020-09-26T11:09:56.304780Z",
     "shell.execute_reply": "2020-09-26T11:09:56.303972Z"
    },
    "papermill": {
     "duration": 0.190018,
     "end_time": "2020-09-26T11:09:56.304914",
     "exception": false,
     "start_time": "2020-09-26T11:09:56.114896",
     "status": "completed"
    },
    "tags": []
   },
   "outputs": [
    {
     "data": {
      "text/html": [
       "<div>\n",
       "<style scoped>\n",
       "    .dataframe tbody tr th:only-of-type {\n",
       "        vertical-align: middle;\n",
       "    }\n",
       "\n",
       "    .dataframe tbody tr th {\n",
       "        vertical-align: top;\n",
       "    }\n",
       "\n",
       "    .dataframe thead th {\n",
       "        text-align: right;\n",
       "    }\n",
       "</style>\n",
       "<table border=\"1\" class=\"dataframe\">\n",
       "  <thead>\n",
       "    <tr style=\"text-align: right;\">\n",
       "      <th></th>\n",
       "      <th>Restaurant_id</th>\n",
       "      <th>City</th>\n",
       "      <th>Cuisine Style</th>\n",
       "      <th>Ranking</th>\n",
       "      <th>Price Range</th>\n",
       "      <th>Number of Reviews</th>\n",
       "      <th>Reviews</th>\n",
       "      <th>URL_TA</th>\n",
       "      <th>ID_TA</th>\n",
       "      <th>Sample</th>\n",
       "      <th>Rating</th>\n",
       "      <th>restaurant_chain</th>\n",
       "      <th>City_code</th>\n",
       "      <th>capital</th>\n",
       "      <th>Сity_population</th>\n",
       "      <th>Сity_income</th>\n",
       "      <th>Сountry</th>\n",
       "      <th>code_Сountry</th>\n",
       "      <th>NAN_Cuisine</th>\n",
       "      <th>quantity_Cuisine_Style</th>\n",
       "      <th>Ranking_City_mean</th>\n",
       "      <th>Restorant_City_count</th>\n",
       "      <th>Ranking_Rest_City_norm</th>\n",
       "      <th>LOG_Number_Reviews</th>\n",
       "      <th>NAN_Number_Reviews</th>\n",
       "      <th>empty_Reviews</th>\n",
       "      <th>date_of_Review</th>\n",
       "      <th>len_date</th>\n",
       "    </tr>\n",
       "  </thead>\n",
       "  <tbody>\n",
       "    <tr>\n",
       "      <th>2221</th>\n",
       "      <td>id_2221</td>\n",
       "      <td>London</td>\n",
       "      <td>[Lebanese, Fast Food, Mediterranean, Turkish, ...</td>\n",
       "      <td>3552.0</td>\n",
       "      <td>1.0</td>\n",
       "      <td>202.0</td>\n",
       "      <td>[['We visited 21/10/17', 'Best Kebab in London...</td>\n",
       "      <td>/Restaurant_Review-g186338-d1009460-Reviews-Ta...</td>\n",
       "      <td>d1009460</td>\n",
       "      <td>0</td>\n",
       "      <td>0.0</td>\n",
       "      <td>1</td>\n",
       "      <td>16</td>\n",
       "      <td>1</td>\n",
       "      <td>8908</td>\n",
       "      <td>2511</td>\n",
       "      <td>England</td>\n",
       "      <td>4</td>\n",
       "      <td>0</td>\n",
       "      <td>6.0</td>\n",
       "      <td>8169.707354</td>\n",
       "      <td>7193</td>\n",
       "      <td>-0.641972</td>\n",
       "      <td>5.313206</td>\n",
       "      <td>0.0</td>\n",
       "      <td>0.0</td>\n",
       "      <td>[21/10/17, 12/22/2017, 10/19/2017]</td>\n",
       "      <td>3</td>\n",
       "    </tr>\n",
       "    <tr>\n",
       "      <th>3809</th>\n",
       "      <td>id_3809</td>\n",
       "      <td>Stockholm</td>\n",
       "      <td>[European, Swedish, Scandinavian]</td>\n",
       "      <td>956.0</td>\n",
       "      <td>2.0</td>\n",
       "      <td>9.0</td>\n",
       "      <td>[['Good Museum Cafeteria', 'Lunch 30/5/2017'],...</td>\n",
       "      <td>/Restaurant_Review-g189852-d12318961-Reviews-N...</td>\n",
       "      <td>d12318961</td>\n",
       "      <td>0</td>\n",
       "      <td>0.0</td>\n",
       "      <td>1</td>\n",
       "      <td>27</td>\n",
       "      <td>0</td>\n",
       "      <td>961</td>\n",
       "      <td>2391</td>\n",
       "      <td>Sweden</td>\n",
       "      <td>21</td>\n",
       "      <td>0</td>\n",
       "      <td>3.0</td>\n",
       "      <td>1237.482091</td>\n",
       "      <td>1033</td>\n",
       "      <td>-0.272490</td>\n",
       "      <td>2.302585</td>\n",
       "      <td>0.0</td>\n",
       "      <td>0.0</td>\n",
       "      <td>[30/5/2017, 04/13/2017, 05/30/2017]</td>\n",
       "      <td>3</td>\n",
       "    </tr>\n",
       "    <tr>\n",
       "      <th>19254</th>\n",
       "      <td>id_12965</td>\n",
       "      <td>London</td>\n",
       "      <td>[Cafe, French]</td>\n",
       "      <td>12975.0</td>\n",
       "      <td>2.0</td>\n",
       "      <td>31.0</td>\n",
       "      <td>[['The desserts arcade !', 'Visit today 3/1/20...</td>\n",
       "      <td>/Restaurant_Review-g186338-d1017372-Reviews-Ma...</td>\n",
       "      <td>d1017372</td>\n",
       "      <td>1</td>\n",
       "      <td>3.5</td>\n",
       "      <td>1</td>\n",
       "      <td>16</td>\n",
       "      <td>1</td>\n",
       "      <td>8908</td>\n",
       "      <td>2511</td>\n",
       "      <td>England</td>\n",
       "      <td>4</td>\n",
       "      <td>0</td>\n",
       "      <td>2.0</td>\n",
       "      <td>8169.707354</td>\n",
       "      <td>7193</td>\n",
       "      <td>0.668051</td>\n",
       "      <td>3.465736</td>\n",
       "      <td>0.0</td>\n",
       "      <td>0.0</td>\n",
       "      <td>[3/1/2017, 06/02/2017, 01/03/2017]</td>\n",
       "      <td>3</td>\n",
       "    </tr>\n",
       "    <tr>\n",
       "      <th>33348</th>\n",
       "      <td>id_450</td>\n",
       "      <td>Geneva</td>\n",
       "      <td>[French, European]</td>\n",
       "      <td>453.0</td>\n",
       "      <td>2.0</td>\n",
       "      <td>48.0</td>\n",
       "      <td>[['lunch 29/9/2016', 'Unplanned Great Dinner']...</td>\n",
       "      <td>/Restaurant_Review-g188057-d2706773-Reviews-Le...</td>\n",
       "      <td>d2706773</td>\n",
       "      <td>1</td>\n",
       "      <td>4.0</td>\n",
       "      <td>1</td>\n",
       "      <td>10</td>\n",
       "      <td>0</td>\n",
       "      <td>201</td>\n",
       "      <td>2100</td>\n",
       "      <td>Switzerland</td>\n",
       "      <td>22</td>\n",
       "      <td>0</td>\n",
       "      <td>2.0</td>\n",
       "      <td>713.227119</td>\n",
       "      <td>590</td>\n",
       "      <td>-0.441063</td>\n",
       "      <td>3.891820</td>\n",
       "      <td>0.0</td>\n",
       "      <td>0.0</td>\n",
       "      <td>[29/9/2016, 09/30/2016, 08/25/2016]</td>\n",
       "      <td>3</td>\n",
       "    </tr>\n",
       "  </tbody>\n",
       "</table>\n",
       "</div>"
      ],
      "text/plain": [
       "      Restaurant_id       City  \\\n",
       "2221        id_2221     London   \n",
       "3809        id_3809  Stockholm   \n",
       "19254      id_12965     London   \n",
       "33348        id_450     Geneva   \n",
       "\n",
       "                                           Cuisine Style  Ranking  \\\n",
       "2221   [Lebanese, Fast Food, Mediterranean, Turkish, ...   3552.0   \n",
       "3809                   [European, Swedish, Scandinavian]    956.0   \n",
       "19254                                     [Cafe, French]  12975.0   \n",
       "33348                                 [French, European]    453.0   \n",
       "\n",
       "       Price Range  Number of Reviews  \\\n",
       "2221           1.0              202.0   \n",
       "3809           2.0                9.0   \n",
       "19254          2.0               31.0   \n",
       "33348          2.0               48.0   \n",
       "\n",
       "                                                 Reviews  \\\n",
       "2221   [['We visited 21/10/17', 'Best Kebab in London...   \n",
       "3809   [['Good Museum Cafeteria', 'Lunch 30/5/2017'],...   \n",
       "19254  [['The desserts arcade !', 'Visit today 3/1/20...   \n",
       "33348  [['lunch 29/9/2016', 'Unplanned Great Dinner']...   \n",
       "\n",
       "                                                  URL_TA      ID_TA  Sample  \\\n",
       "2221   /Restaurant_Review-g186338-d1009460-Reviews-Ta...   d1009460       0   \n",
       "3809   /Restaurant_Review-g189852-d12318961-Reviews-N...  d12318961       0   \n",
       "19254  /Restaurant_Review-g186338-d1017372-Reviews-Ma...   d1017372       1   \n",
       "33348  /Restaurant_Review-g188057-d2706773-Reviews-Le...   d2706773       1   \n",
       "\n",
       "       Rating restaurant_chain  City_code  capital  Сity_population  \\\n",
       "2221      0.0                1         16        1             8908   \n",
       "3809      0.0                1         27        0              961   \n",
       "19254     3.5                1         16        1             8908   \n",
       "33348     4.0                1         10        0              201   \n",
       "\n",
       "       Сity_income      Сountry  code_Сountry  NAN_Cuisine  \\\n",
       "2221          2511      England             4            0   \n",
       "3809          2391       Sweden            21            0   \n",
       "19254         2511      England             4            0   \n",
       "33348         2100  Switzerland            22            0   \n",
       "\n",
       "       quantity_Cuisine_Style  Ranking_City_mean  Restorant_City_count  \\\n",
       "2221                      6.0        8169.707354                  7193   \n",
       "3809                      3.0        1237.482091                  1033   \n",
       "19254                     2.0        8169.707354                  7193   \n",
       "33348                     2.0         713.227119                   590   \n",
       "\n",
       "       Ranking_Rest_City_norm  LOG_Number_Reviews  NAN_Number_Reviews  \\\n",
       "2221                -0.641972            5.313206                 0.0   \n",
       "3809                -0.272490            2.302585                 0.0   \n",
       "19254                0.668051            3.465736                 0.0   \n",
       "33348               -0.441063            3.891820                 0.0   \n",
       "\n",
       "       empty_Reviews                       date_of_Review  len_date  \n",
       "2221             0.0   [21/10/17, 12/22/2017, 10/19/2017]         3  \n",
       "3809             0.0  [30/5/2017, 04/13/2017, 05/30/2017]         3  \n",
       "19254            0.0   [3/1/2017, 06/02/2017, 01/03/2017]         3  \n",
       "33348            0.0  [29/9/2016, 09/30/2016, 08/25/2016]         3  "
      ]
     },
     "execution_count": 50,
     "metadata": {},
     "output_type": "execute_result"
    }
   ],
   "source": [
    "df[df['len_date']>2]"
   ]
  },
  {
   "cell_type": "code",
   "execution_count": 51,
   "metadata": {
    "execution": {
     "iopub.execute_input": "2020-09-26T11:09:56.546157Z",
     "iopub.status.busy": "2020-09-26T11:09:56.543189Z",
     "iopub.status.idle": "2020-09-26T11:09:56.551096Z",
     "shell.execute_reply": "2020-09-26T11:09:56.550376Z"
    },
    "papermill": {
     "duration": 0.130677,
     "end_time": "2020-09-26T11:09:56.551218",
     "exception": false,
     "start_time": "2020-09-26T11:09:56.420541",
     "status": "completed"
    },
    "tags": []
   },
   "outputs": [
    {
     "data": {
      "text/plain": [
       "2221     [['We visited 21/10/17', 'Best Kebab in London...\n",
       "3809     [['Good Museum Cafeteria', 'Lunch 30/5/2017'],...\n",
       "19254    [['The desserts arcade !', 'Visit today 3/1/20...\n",
       "33348    [['lunch 29/9/2016', 'Unplanned Great Dinner']...\n",
       "Name: Reviews, dtype: object"
      ]
     },
     "execution_count": 51,
     "metadata": {},
     "output_type": "execute_result"
    }
   ],
   "source": [
    "df.loc[df['len_date']>2]['Reviews']"
   ]
  },
  {
   "cell_type": "code",
   "execution_count": 52,
   "metadata": {
    "execution": {
     "iopub.execute_input": "2020-09-26T11:09:56.797605Z",
     "iopub.status.busy": "2020-09-26T11:09:56.796651Z",
     "iopub.status.idle": "2020-09-26T11:09:56.801157Z",
     "shell.execute_reply": "2020-09-26T11:09:56.800418Z"
    },
    "papermill": {
     "duration": 0.133332,
     "end_time": "2020-09-26T11:09:56.801304",
     "exception": false,
     "start_time": "2020-09-26T11:09:56.667972",
     "status": "completed"
    },
    "tags": []
   },
   "outputs": [
    {
     "name": "stderr",
     "output_type": "stream",
     "text": [
      "/opt/conda/lib/python3.7/site-packages/ipykernel_launcher.py:5: SettingWithCopyWarning: \n",
      "A value is trying to be set on a copy of a slice from a DataFrame\n",
      "\n",
      "See the caveats in the documentation: https://pandas.pydata.org/pandas-docs/stable/user_guide/indexing.html#returning-a-view-versus-a-copy\n",
      "  \"\"\"\n"
     ]
    }
   ],
   "source": [
    "# видим что люди указывали даты в отзывах и эти даты попали в обработку. выбросим данные из DF\n",
    "for row in df.loc[df['len_date']>2].index:\n",
    "    date_list = df.loc[row]['date_of_Review']\n",
    "    del date_list[0]\n",
    "    df.loc[row]['date_of_Review'] = date_list"
   ]
  },
  {
   "cell_type": "code",
   "execution_count": 53,
   "metadata": {
    "execution": {
     "iopub.execute_input": "2020-09-26T11:09:57.044516Z",
     "iopub.status.busy": "2020-09-26T11:09:57.043705Z",
     "iopub.status.idle": "2020-09-26T11:09:57.107088Z",
     "shell.execute_reply": "2020-09-26T11:09:57.106335Z"
    },
    "papermill": {
     "duration": 0.188234,
     "end_time": "2020-09-26T11:09:57.107221",
     "exception": false,
     "start_time": "2020-09-26T11:09:56.918987",
     "status": "completed"
    },
    "tags": []
   },
   "outputs": [
    {
     "data": {
      "text/html": [
       "<div>\n",
       "<style scoped>\n",
       "    .dataframe tbody tr th:only-of-type {\n",
       "        vertical-align: middle;\n",
       "    }\n",
       "\n",
       "    .dataframe tbody tr th {\n",
       "        vertical-align: top;\n",
       "    }\n",
       "\n",
       "    .dataframe thead th {\n",
       "        text-align: right;\n",
       "    }\n",
       "</style>\n",
       "<table border=\"1\" class=\"dataframe\">\n",
       "  <thead>\n",
       "    <tr style=\"text-align: right;\">\n",
       "      <th></th>\n",
       "      <th>Restaurant_id</th>\n",
       "      <th>City</th>\n",
       "      <th>Cuisine Style</th>\n",
       "      <th>Ranking</th>\n",
       "      <th>Price Range</th>\n",
       "      <th>Number of Reviews</th>\n",
       "      <th>Reviews</th>\n",
       "      <th>URL_TA</th>\n",
       "      <th>ID_TA</th>\n",
       "      <th>Sample</th>\n",
       "      <th>Rating</th>\n",
       "      <th>restaurant_chain</th>\n",
       "      <th>City_code</th>\n",
       "      <th>capital</th>\n",
       "      <th>Сity_population</th>\n",
       "      <th>Сity_income</th>\n",
       "      <th>Сountry</th>\n",
       "      <th>code_Сountry</th>\n",
       "      <th>NAN_Cuisine</th>\n",
       "      <th>quantity_Cuisine_Style</th>\n",
       "      <th>Ranking_City_mean</th>\n",
       "      <th>Restorant_City_count</th>\n",
       "      <th>Ranking_Rest_City_norm</th>\n",
       "      <th>LOG_Number_Reviews</th>\n",
       "      <th>NAN_Number_Reviews</th>\n",
       "      <th>empty_Reviews</th>\n",
       "      <th>date_of_Review</th>\n",
       "      <th>len_date</th>\n",
       "    </tr>\n",
       "  </thead>\n",
       "  <tbody>\n",
       "    <tr>\n",
       "      <th>12</th>\n",
       "      <td>id_12</td>\n",
       "      <td>Munich</td>\n",
       "      <td>[Greek]</td>\n",
       "      <td>1987.0</td>\n",
       "      <td>1.0</td>\n",
       "      <td>10.0</td>\n",
       "      <td>[['You always feel very Welcome at this cozy.....</td>\n",
       "      <td>/Restaurant_Review-g187309-d958943-Reviews-Wro...</td>\n",
       "      <td>d958943</td>\n",
       "      <td>0</td>\n",
       "      <td>0.0</td>\n",
       "      <td>1</td>\n",
       "      <td>21</td>\n",
       "      <td>0</td>\n",
       "      <td>1457</td>\n",
       "      <td>5181</td>\n",
       "      <td>Germany</td>\n",
       "      <td>7</td>\n",
       "      <td>0</td>\n",
       "      <td>1.0</td>\n",
       "      <td>1370.297817</td>\n",
       "      <td>1145</td>\n",
       "      <td>0.538605</td>\n",
       "      <td>2.397895</td>\n",
       "      <td>0.0</td>\n",
       "      <td>0.0</td>\n",
       "      <td>[03/20/2010]</td>\n",
       "      <td>1</td>\n",
       "    </tr>\n",
       "    <tr>\n",
       "      <th>31</th>\n",
       "      <td>id_31</td>\n",
       "      <td>Paris</td>\n",
       "      <td>[Other]</td>\n",
       "      <td>3156.0</td>\n",
       "      <td>2.0</td>\n",
       "      <td>19.0</td>\n",
       "      <td>[['Very good food'], ['09/24/2017']]</td>\n",
       "      <td>/Restaurant_Review-g187147-d11953078-Reviews-B...</td>\n",
       "      <td>d11953078</td>\n",
       "      <td>0</td>\n",
       "      <td>0.0</td>\n",
       "      <td>1</td>\n",
       "      <td>24</td>\n",
       "      <td>1</td>\n",
       "      <td>2206</td>\n",
       "      <td>3617</td>\n",
       "      <td>France</td>\n",
       "      <td>6</td>\n",
       "      <td>1</td>\n",
       "      <td>3.0</td>\n",
       "      <td>6938.557138</td>\n",
       "      <td>6108</td>\n",
       "      <td>-0.619279</td>\n",
       "      <td>2.995732</td>\n",
       "      <td>0.0</td>\n",
       "      <td>0.0</td>\n",
       "      <td>[09/24/2017]</td>\n",
       "      <td>1</td>\n",
       "    </tr>\n",
       "    <tr>\n",
       "      <th>48</th>\n",
       "      <td>id_48</td>\n",
       "      <td>Athens</td>\n",
       "      <td>[Greek]</td>\n",
       "      <td>1077.0</td>\n",
       "      <td>2.0</td>\n",
       "      <td>3.0</td>\n",
       "      <td>[['Thomas'], ['01/06/2016']]</td>\n",
       "      <td>/Restaurant_Review-g189400-d8747125-Reviews-Yo...</td>\n",
       "      <td>d8747125</td>\n",
       "      <td>0</td>\n",
       "      <td>0.0</td>\n",
       "      <td>1</td>\n",
       "      <td>1</td>\n",
       "      <td>1</td>\n",
       "      <td>665</td>\n",
       "      <td>1100</td>\n",
       "      <td>Greece</td>\n",
       "      <td>8</td>\n",
       "      <td>0</td>\n",
       "      <td>1.0</td>\n",
       "      <td>880.213918</td>\n",
       "      <td>776</td>\n",
       "      <td>0.253590</td>\n",
       "      <td>1.386294</td>\n",
       "      <td>0.0</td>\n",
       "      <td>0.0</td>\n",
       "      <td>[01/06/2016]</td>\n",
       "      <td>1</td>\n",
       "    </tr>\n",
       "    <tr>\n",
       "      <th>50</th>\n",
       "      <td>id_50</td>\n",
       "      <td>Budapest</td>\n",
       "      <td>[Italian, Pizza, Street Food]</td>\n",
       "      <td>1983.0</td>\n",
       "      <td>1.0</td>\n",
       "      <td>7.0</td>\n",
       "      <td>[['The best in Budapest so far'], ['03/05/2017']]</td>\n",
       "      <td>/Restaurant_Review-g274887-d10788740-Reviews-P...</td>\n",
       "      <td>d10788740</td>\n",
       "      <td>0</td>\n",
       "      <td>0.0</td>\n",
       "      <td>1</td>\n",
       "      <td>6</td>\n",
       "      <td>1</td>\n",
       "      <td>1752</td>\n",
       "      <td>670</td>\n",
       "      <td>Romania</td>\n",
       "      <td>16</td>\n",
       "      <td>0</td>\n",
       "      <td>3.0</td>\n",
       "      <td>1219.061704</td>\n",
       "      <td>1021</td>\n",
       "      <td>0.748226</td>\n",
       "      <td>2.079442</td>\n",
       "      <td>0.0</td>\n",
       "      <td>0.0</td>\n",
       "      <td>[03/05/2017]</td>\n",
       "      <td>1</td>\n",
       "    </tr>\n",
       "    <tr>\n",
       "      <th>55</th>\n",
       "      <td>id_55</td>\n",
       "      <td>Madrid</td>\n",
       "      <td>[Other]</td>\n",
       "      <td>6819.0</td>\n",
       "      <td>2.0</td>\n",
       "      <td>10.0</td>\n",
       "      <td>[['Coffee was fine - and as it says low price'...</td>\n",
       "      <td>/Restaurant_Review-g187514-d11633790-Reviews-L...</td>\n",
       "      <td>d11633790</td>\n",
       "      <td>0</td>\n",
       "      <td>0.0</td>\n",
       "      <td>1</td>\n",
       "      <td>19</td>\n",
       "      <td>1</td>\n",
       "      <td>3223</td>\n",
       "      <td>2651</td>\n",
       "      <td>Spain</td>\n",
       "      <td>20</td>\n",
       "      <td>1</td>\n",
       "      <td>3.0</td>\n",
       "      <td>4388.516391</td>\n",
       "      <td>3813</td>\n",
       "      <td>0.637420</td>\n",
       "      <td>2.397895</td>\n",
       "      <td>0.0</td>\n",
       "      <td>0.0</td>\n",
       "      <td>[04/21/2017]</td>\n",
       "      <td>1</td>\n",
       "    </tr>\n",
       "    <tr>\n",
       "      <th>...</th>\n",
       "      <td>...</td>\n",
       "      <td>...</td>\n",
       "      <td>...</td>\n",
       "      <td>...</td>\n",
       "      <td>...</td>\n",
       "      <td>...</td>\n",
       "      <td>...</td>\n",
       "      <td>...</td>\n",
       "      <td>...</td>\n",
       "      <td>...</td>\n",
       "      <td>...</td>\n",
       "      <td>...</td>\n",
       "      <td>...</td>\n",
       "      <td>...</td>\n",
       "      <td>...</td>\n",
       "      <td>...</td>\n",
       "      <td>...</td>\n",
       "      <td>...</td>\n",
       "      <td>...</td>\n",
       "      <td>...</td>\n",
       "      <td>...</td>\n",
       "      <td>...</td>\n",
       "      <td>...</td>\n",
       "      <td>...</td>\n",
       "      <td>...</td>\n",
       "      <td>...</td>\n",
       "      <td>...</td>\n",
       "      <td>...</td>\n",
       "    </tr>\n",
       "    <tr>\n",
       "      <th>49972</th>\n",
       "      <td>id_2009</td>\n",
       "      <td>Prague</td>\n",
       "      <td>[Cafe, Delicatessen, Healthy, Wine Bar, Street...</td>\n",
       "      <td>2012.0</td>\n",
       "      <td>1.0</td>\n",
       "      <td>33.0</td>\n",
       "      <td>[['Personal expirence'], ['10/27/2017']]</td>\n",
       "      <td>/Restaurant_Review-g274707-d12981295-Reviews-M...</td>\n",
       "      <td>d12981295</td>\n",
       "      <td>1</td>\n",
       "      <td>5.0</td>\n",
       "      <td>1</td>\n",
       "      <td>25</td>\n",
       "      <td>1</td>\n",
       "      <td>1308</td>\n",
       "      <td>1400</td>\n",
       "      <td>Czech_c</td>\n",
       "      <td>2</td>\n",
       "      <td>0</td>\n",
       "      <td>5.0</td>\n",
       "      <td>2086.979626</td>\n",
       "      <td>1816</td>\n",
       "      <td>-0.041288</td>\n",
       "      <td>3.526361</td>\n",
       "      <td>1.0</td>\n",
       "      <td>0.0</td>\n",
       "      <td>[10/27/2017]</td>\n",
       "      <td>1</td>\n",
       "    </tr>\n",
       "    <tr>\n",
       "      <th>49974</th>\n",
       "      <td>id_4650</td>\n",
       "      <td>Barcelona</td>\n",
       "      <td>[Mediterranean]</td>\n",
       "      <td>4651.0</td>\n",
       "      <td>2.0</td>\n",
       "      <td>4.0</td>\n",
       "      <td>[['Nice place to eat and chill'], ['08/29/2016']]</td>\n",
       "      <td>/Restaurant_Review-g187497-d10606787-Reviews-T...</td>\n",
       "      <td>d10606787</td>\n",
       "      <td>1</td>\n",
       "      <td>5.0</td>\n",
       "      <td>1</td>\n",
       "      <td>2</td>\n",
       "      <td>0</td>\n",
       "      <td>1620</td>\n",
       "      <td>2663</td>\n",
       "      <td>Spain</td>\n",
       "      <td>20</td>\n",
       "      <td>0</td>\n",
       "      <td>1.0</td>\n",
       "      <td>3879.422680</td>\n",
       "      <td>3395</td>\n",
       "      <td>0.227269</td>\n",
       "      <td>1.609438</td>\n",
       "      <td>0.0</td>\n",
       "      <td>0.0</td>\n",
       "      <td>[08/29/2016]</td>\n",
       "      <td>1</td>\n",
       "    </tr>\n",
       "    <tr>\n",
       "      <th>49983</th>\n",
       "      <td>id_2487</td>\n",
       "      <td>Amsterdam</td>\n",
       "      <td>[Other]</td>\n",
       "      <td>2494.0</td>\n",
       "      <td>2.0</td>\n",
       "      <td>2.0</td>\n",
       "      <td>[['Italian food, as in Italy!'], ['05/24/2015']]</td>\n",
       "      <td>/Restaurant_Review-g188590-d8120959-Reviews-Sa...</td>\n",
       "      <td>d8120959</td>\n",
       "      <td>1</td>\n",
       "      <td>4.5</td>\n",
       "      <td>1</td>\n",
       "      <td>0</td>\n",
       "      <td>1</td>\n",
       "      <td>860</td>\n",
       "      <td>4612</td>\n",
       "      <td>Holland</td>\n",
       "      <td>9</td>\n",
       "      <td>1</td>\n",
       "      <td>3.0</td>\n",
       "      <td>1591.589650</td>\n",
       "      <td>1372</td>\n",
       "      <td>0.657733</td>\n",
       "      <td>1.098612</td>\n",
       "      <td>0.0</td>\n",
       "      <td>0.0</td>\n",
       "      <td>[05/24/2015]</td>\n",
       "      <td>1</td>\n",
       "    </tr>\n",
       "    <tr>\n",
       "      <th>49984</th>\n",
       "      <td>id_840</td>\n",
       "      <td>Lyon</td>\n",
       "      <td>[French, American, Cafe, Healthy, Soups]</td>\n",
       "      <td>841.0</td>\n",
       "      <td>2.0</td>\n",
       "      <td>10.0</td>\n",
       "      <td>[['Good Cookies and more'], ['11/03/2016']]</td>\n",
       "      <td>/Restaurant_Review-g187265-d11793820-Reviews-C...</td>\n",
       "      <td>d11793820</td>\n",
       "      <td>1</td>\n",
       "      <td>5.0</td>\n",
       "      <td>1</td>\n",
       "      <td>18</td>\n",
       "      <td>0</td>\n",
       "      <td>506</td>\n",
       "      <td>2400</td>\n",
       "      <td>France</td>\n",
       "      <td>6</td>\n",
       "      <td>0</td>\n",
       "      <td>5.0</td>\n",
       "      <td>1303.902309</td>\n",
       "      <td>1126</td>\n",
       "      <td>-0.411103</td>\n",
       "      <td>2.397895</td>\n",
       "      <td>0.0</td>\n",
       "      <td>0.0</td>\n",
       "      <td>[11/03/2016]</td>\n",
       "      <td>1</td>\n",
       "    </tr>\n",
       "    <tr>\n",
       "      <th>49989</th>\n",
       "      <td>id_8887</td>\n",
       "      <td>London</td>\n",
       "      <td>[International]</td>\n",
       "      <td>8896.0</td>\n",
       "      <td>2.0</td>\n",
       "      <td>33.0</td>\n",
       "      <td>[['I love this place!'], ['08/24/2015']]</td>\n",
       "      <td>/Restaurant_Review-g186338-d5550626-Reviews-Th...</td>\n",
       "      <td>d5550626</td>\n",
       "      <td>1</td>\n",
       "      <td>5.0</td>\n",
       "      <td>1</td>\n",
       "      <td>16</td>\n",
       "      <td>1</td>\n",
       "      <td>8908</td>\n",
       "      <td>2511</td>\n",
       "      <td>England</td>\n",
       "      <td>4</td>\n",
       "      <td>0</td>\n",
       "      <td>1.0</td>\n",
       "      <td>8169.707354</td>\n",
       "      <td>7193</td>\n",
       "      <td>0.100972</td>\n",
       "      <td>3.526361</td>\n",
       "      <td>1.0</td>\n",
       "      <td>0.0</td>\n",
       "      <td>[08/24/2015]</td>\n",
       "      <td>1</td>\n",
       "    </tr>\n",
       "  </tbody>\n",
       "</table>\n",
       "<p>5680 rows × 28 columns</p>\n",
       "</div>"
      ],
      "text/plain": [
       "      Restaurant_id       City  \\\n",
       "12            id_12     Munich   \n",
       "31            id_31      Paris   \n",
       "48            id_48     Athens   \n",
       "50            id_50   Budapest   \n",
       "55            id_55     Madrid   \n",
       "...             ...        ...   \n",
       "49972       id_2009     Prague   \n",
       "49974       id_4650  Barcelona   \n",
       "49983       id_2487  Amsterdam   \n",
       "49984        id_840       Lyon   \n",
       "49989       id_8887     London   \n",
       "\n",
       "                                           Cuisine Style  Ranking  \\\n",
       "12                                               [Greek]   1987.0   \n",
       "31                                               [Other]   3156.0   \n",
       "48                                               [Greek]   1077.0   \n",
       "50                         [Italian, Pizza, Street Food]   1983.0   \n",
       "55                                               [Other]   6819.0   \n",
       "...                                                  ...      ...   \n",
       "49972  [Cafe, Delicatessen, Healthy, Wine Bar, Street...   2012.0   \n",
       "49974                                    [Mediterranean]   4651.0   \n",
       "49983                                            [Other]   2494.0   \n",
       "49984           [French, American, Cafe, Healthy, Soups]    841.0   \n",
       "49989                                    [International]   8896.0   \n",
       "\n",
       "       Price Range  Number of Reviews  \\\n",
       "12             1.0               10.0   \n",
       "31             2.0               19.0   \n",
       "48             2.0                3.0   \n",
       "50             1.0                7.0   \n",
       "55             2.0               10.0   \n",
       "...            ...                ...   \n",
       "49972          1.0               33.0   \n",
       "49974          2.0                4.0   \n",
       "49983          2.0                2.0   \n",
       "49984          2.0               10.0   \n",
       "49989          2.0               33.0   \n",
       "\n",
       "                                                 Reviews  \\\n",
       "12     [['You always feel very Welcome at this cozy.....   \n",
       "31                  [['Very good food'], ['09/24/2017']]   \n",
       "48                          [['Thomas'], ['01/06/2016']]   \n",
       "50     [['The best in Budapest so far'], ['03/05/2017']]   \n",
       "55     [['Coffee was fine - and as it says low price'...   \n",
       "...                                                  ...   \n",
       "49972           [['Personal expirence'], ['10/27/2017']]   \n",
       "49974  [['Nice place to eat and chill'], ['08/29/2016']]   \n",
       "49983   [['Italian food, as in Italy!'], ['05/24/2015']]   \n",
       "49984        [['Good Cookies and more'], ['11/03/2016']]   \n",
       "49989           [['I love this place!'], ['08/24/2015']]   \n",
       "\n",
       "                                                  URL_TA      ID_TA  Sample  \\\n",
       "12     /Restaurant_Review-g187309-d958943-Reviews-Wro...    d958943       0   \n",
       "31     /Restaurant_Review-g187147-d11953078-Reviews-B...  d11953078       0   \n",
       "48     /Restaurant_Review-g189400-d8747125-Reviews-Yo...   d8747125       0   \n",
       "50     /Restaurant_Review-g274887-d10788740-Reviews-P...  d10788740       0   \n",
       "55     /Restaurant_Review-g187514-d11633790-Reviews-L...  d11633790       0   \n",
       "...                                                  ...        ...     ...   \n",
       "49972  /Restaurant_Review-g274707-d12981295-Reviews-M...  d12981295       1   \n",
       "49974  /Restaurant_Review-g187497-d10606787-Reviews-T...  d10606787       1   \n",
       "49983  /Restaurant_Review-g188590-d8120959-Reviews-Sa...   d8120959       1   \n",
       "49984  /Restaurant_Review-g187265-d11793820-Reviews-C...  d11793820       1   \n",
       "49989  /Restaurant_Review-g186338-d5550626-Reviews-Th...   d5550626       1   \n",
       "\n",
       "       Rating restaurant_chain  City_code  capital  Сity_population  \\\n",
       "12        0.0                1         21        0             1457   \n",
       "31        0.0                1         24        1             2206   \n",
       "48        0.0                1          1        1              665   \n",
       "50        0.0                1          6        1             1752   \n",
       "55        0.0                1         19        1             3223   \n",
       "...       ...              ...        ...      ...              ...   \n",
       "49972     5.0                1         25        1             1308   \n",
       "49974     5.0                1          2        0             1620   \n",
       "49983     4.5                1          0        1              860   \n",
       "49984     5.0                1         18        0              506   \n",
       "49989     5.0                1         16        1             8908   \n",
       "\n",
       "       Сity_income  Сountry  code_Сountry  NAN_Cuisine  \\\n",
       "12            5181  Germany             7            0   \n",
       "31            3617   France             6            1   \n",
       "48            1100   Greece             8            0   \n",
       "50             670  Romania            16            0   \n",
       "55            2651    Spain            20            1   \n",
       "...            ...      ...           ...          ...   \n",
       "49972         1400  Czech_c             2            0   \n",
       "49974         2663    Spain            20            0   \n",
       "49983         4612  Holland             9            1   \n",
       "49984         2400   France             6            0   \n",
       "49989         2511  England             4            0   \n",
       "\n",
       "       quantity_Cuisine_Style  Ranking_City_mean  Restorant_City_count  \\\n",
       "12                        1.0        1370.297817                  1145   \n",
       "31                        3.0        6938.557138                  6108   \n",
       "48                        1.0         880.213918                   776   \n",
       "50                        3.0        1219.061704                  1021   \n",
       "55                        3.0        4388.516391                  3813   \n",
       "...                       ...                ...                   ...   \n",
       "49972                     5.0        2086.979626                  1816   \n",
       "49974                     1.0        3879.422680                  3395   \n",
       "49983                     3.0        1591.589650                  1372   \n",
       "49984                     5.0        1303.902309                  1126   \n",
       "49989                     1.0        8169.707354                  7193   \n",
       "\n",
       "       Ranking_Rest_City_norm  LOG_Number_Reviews  NAN_Number_Reviews  \\\n",
       "12                   0.538605            2.397895                 0.0   \n",
       "31                  -0.619279            2.995732                 0.0   \n",
       "48                   0.253590            1.386294                 0.0   \n",
       "50                   0.748226            2.079442                 0.0   \n",
       "55                   0.637420            2.397895                 0.0   \n",
       "...                       ...                 ...                 ...   \n",
       "49972               -0.041288            3.526361                 1.0   \n",
       "49974                0.227269            1.609438                 0.0   \n",
       "49983                0.657733            1.098612                 0.0   \n",
       "49984               -0.411103            2.397895                 0.0   \n",
       "49989                0.100972            3.526361                 1.0   \n",
       "\n",
       "       empty_Reviews date_of_Review  len_date  \n",
       "12               0.0   [03/20/2010]         1  \n",
       "31               0.0   [09/24/2017]         1  \n",
       "48               0.0   [01/06/2016]         1  \n",
       "50               0.0   [03/05/2017]         1  \n",
       "55               0.0   [04/21/2017]         1  \n",
       "...              ...            ...       ...  \n",
       "49972            0.0   [10/27/2017]         1  \n",
       "49974            0.0   [08/29/2016]         1  \n",
       "49983            0.0   [05/24/2015]         1  \n",
       "49984            0.0   [11/03/2016]         1  \n",
       "49989            0.0   [08/24/2015]         1  \n",
       "\n",
       "[5680 rows x 28 columns]"
      ]
     },
     "execution_count": 53,
     "metadata": {},
     "output_type": "execute_result"
    }
   ],
   "source": [
    "df.loc[df['len_date'] == 1]"
   ]
  },
  {
   "cell_type": "code",
   "execution_count": 54,
   "metadata": {
    "execution": {
     "iopub.execute_input": "2020-09-26T11:09:57.367218Z",
     "iopub.status.busy": "2020-09-26T11:09:57.356064Z",
     "iopub.status.idle": "2020-09-26T11:10:45.898402Z",
     "shell.execute_reply": "2020-09-26T11:10:45.897555Z"
    },
    "papermill": {
     "duration": 48.671745,
     "end_time": "2020-09-26T11:10:45.898546",
     "exception": false,
     "start_time": "2020-09-26T11:09:57.226801",
     "status": "completed"
    },
    "tags": []
   },
   "outputs": [],
   "source": [
    "# оказалось, что есть отзывы с одним (1) отзывом и их достаточно много 5680\n",
    "# поэтому предлагаю работать с одной (первой датой)\n",
    "# в качестве признаков предлагаю использовать месяц и день недели наиболее свежего отзыва \n",
    "\n",
    "df['week_day'] = df['date_of_Review'].apply(lambda x: pd.to_datetime(x).max().weekday())\n",
    "df['month'] = df['date_of_Review'].apply(lambda x: pd.to_datetime(x).max().month)\n"
   ]
  },
  {
   "cell_type": "code",
   "execution_count": 55,
   "metadata": {
    "execution": {
     "iopub.execute_input": "2020-09-26T11:10:46.166132Z",
     "iopub.status.busy": "2020-09-26T11:10:46.157204Z",
     "iopub.status.idle": "2020-09-26T11:10:46.511207Z",
     "shell.execute_reply": "2020-09-26T11:10:46.511765Z"
    },
    "papermill": {
     "duration": 0.491878,
     "end_time": "2020-09-26T11:10:46.511950",
     "exception": false,
     "start_time": "2020-09-26T11:10:46.020072",
     "status": "completed"
    },
    "tags": []
   },
   "outputs": [
    {
     "data": {
      "image/png": "[encoded data removed]",
      "text/plain": [
       "<Figure size 432x288 with 2 Axes>"
      ]
     },
     "metadata": {
      "needs_background": "light"
     },
     "output_type": "display_data"
    }
   ],
   "source": [
    "diagram_bar(df, 'week_day')"
   ]
  },
  {
   "cell_type": "code",
   "execution_count": 56,
   "metadata": {
    "execution": {
     "iopub.execute_input": "2020-09-26T11:10:46.760575Z",
     "iopub.status.busy": "2020-09-26T11:10:46.759823Z",
     "iopub.status.idle": "2020-09-26T11:10:46.767587Z",
     "shell.execute_reply": "2020-09-26T11:10:46.768204Z"
    },
    "papermill": {
     "duration": 0.135388,
     "end_time": "2020-09-26T11:10:46.768358",
     "exception": false,
     "start_time": "2020-09-26T11:10:46.632970",
     "status": "completed"
    },
    "tags": []
   },
   "outputs": [],
   "source": [
    "df['week_day'] = df['week_day'].fillna(df['week_day'].value_counts().index[0])"
   ]
  },
  {
   "cell_type": "code",
   "execution_count": 57,
   "metadata": {
    "execution": {
     "iopub.execute_input": "2020-09-26T11:10:47.022276Z",
     "iopub.status.busy": "2020-09-26T11:10:47.015701Z",
     "iopub.status.idle": "2020-09-26T11:10:47.365934Z",
     "shell.execute_reply": "2020-09-26T11:10:47.365175Z"
    },
    "papermill": {
     "duration": 0.477509,
     "end_time": "2020-09-26T11:10:47.366075",
     "exception": false,
     "start_time": "2020-09-26T11:10:46.888566",
     "status": "completed"
    },
    "tags": []
   },
   "outputs": [
    {
     "data": {
      "image/png": "[encoded data removed]",
      "text/plain": [
       "<Figure size 432x288 with 2 Axes>"
      ]
     },
     "metadata": {
      "needs_background": "light"
     },
     "output_type": "display_data"
    }
   ],
   "source": [
    "diagram_bar(df, 'week_day')"
   ]
  },
  {
   "cell_type": "code",
   "execution_count": 58,
   "metadata": {
    "execution": {
     "iopub.execute_input": "2020-09-26T11:10:47.619214Z",
     "iopub.status.busy": "2020-09-26T11:10:47.618441Z",
     "iopub.status.idle": "2020-09-26T11:10:47.649912Z",
     "shell.execute_reply": "2020-09-26T11:10:47.649165Z"
    },
    "papermill": {
     "duration": 0.161436,
     "end_time": "2020-09-26T11:10:47.650052",
     "exception": false,
     "start_time": "2020-09-26T11:10:47.488616",
     "status": "completed"
    },
    "tags": []
   },
   "outputs": [],
   "source": [
    "day_week = pd.get_dummies(df['week_day'])\n",
    "day_week.columns = ['mo', 'Tu', 'We', 'Th', 'Fr', 'Sa', 'Su']\n",
    "df = pd.concat([df,day_week], axis=1)"
   ]
  },
  {
   "cell_type": "code",
   "execution_count": 59,
   "metadata": {
    "execution": {
     "iopub.execute_input": "2020-09-26T11:10:47.901368Z",
     "iopub.status.busy": "2020-09-26T11:10:47.900558Z",
     "iopub.status.idle": "2020-09-26T11:10:48.094064Z",
     "shell.execute_reply": "2020-09-26T11:10:48.093283Z"
    },
    "papermill": {
     "duration": 0.322402,
     "end_time": "2020-09-26T11:10:48.094206",
     "exception": false,
     "start_time": "2020-09-26T11:10:47.771804",
     "status": "completed"
    },
    "tags": []
   },
   "outputs": [
    {
     "name": "stdout",
     "output_type": "stream",
     "text": [
      "mo\n",
      "Отвергаем нулевую гипотезу\n",
      "Tu\n",
      "Отвергаем нулевую гипотезу\n",
      "We\n",
      "Отвергаем нулевую гипотезу\n",
      "Th\n",
      "Отвергаем нулевую гипотезу\n",
      "Fr\n",
      "Отвергаем нулевую гипотезу\n",
      "Sa\n",
      "Отвергаем нулевую гипотезу\n",
      "Su\n",
      "Отвергаем нулевую гипотезу\n"
     ]
    }
   ],
   "source": [
    "for column in day_week.columns:\n",
    "    print(column)\n",
    "    hypothyroidism(df, column, 0.05)"
   ]
  },
  {
   "cell_type": "code",
   "execution_count": 60,
   "metadata": {
    "execution": {
     "iopub.execute_input": "2020-09-26T11:10:48.354102Z",
     "iopub.status.busy": "2020-09-26T11:10:48.351500Z",
     "iopub.status.idle": "2020-09-26T11:10:48.714193Z",
     "shell.execute_reply": "2020-09-26T11:10:48.713549Z"
    },
    "papermill": {
     "duration": 0.496461,
     "end_time": "2020-09-26T11:10:48.714328",
     "exception": false,
     "start_time": "2020-09-26T11:10:48.217867",
     "status": "completed"
    },
    "tags": []
   },
   "outputs": [
    {
     "data": {
      "image/png": "[encoded data removed]",
      "text/plain": [
       "<Figure size 432x288 with 2 Axes>"
      ]
     },
     "metadata": {
      "needs_background": "light"
     },
     "output_type": "display_data"
    }
   ],
   "source": [
    "diagram_bar(df, 'month')"
   ]
  },
  {
   "cell_type": "code",
   "execution_count": 61,
   "metadata": {
    "execution": {
     "iopub.execute_input": "2020-09-26T11:10:48.967999Z",
     "iopub.status.busy": "2020-09-26T11:10:48.967275Z",
     "iopub.status.idle": "2020-09-26T11:10:48.973844Z",
     "shell.execute_reply": "2020-09-26T11:10:48.973273Z"
    },
    "papermill": {
     "duration": 0.136701,
     "end_time": "2020-09-26T11:10:48.973973",
     "exception": false,
     "start_time": "2020-09-26T11:10:48.837272",
     "status": "completed"
    },
    "tags": []
   },
   "outputs": [],
   "source": [
    "df['month'] = df['month'].fillna(df['month'].value_counts().index[0])"
   ]
  },
  {
   "cell_type": "code",
   "execution_count": 62,
   "metadata": {
    "execution": {
     "iopub.execute_input": "2020-09-26T11:10:49.244540Z",
     "iopub.status.busy": "2020-09-26T11:10:49.243773Z",
     "iopub.status.idle": "2020-09-26T11:10:49.578965Z",
     "shell.execute_reply": "2020-09-26T11:10:49.578189Z"
    },
    "papermill": {
     "duration": 0.472667,
     "end_time": "2020-09-26T11:10:49.579139",
     "exception": false,
     "start_time": "2020-09-26T11:10:49.106472",
     "status": "completed"
    },
    "tags": []
   },
   "outputs": [
    {
     "data": {
      "image/png": "[encoded data removed]",
      "text/plain": [
       "<Figure size 432x288 with 2 Axes>"
      ]
     },
     "metadata": {
      "needs_background": "light"
     },
     "output_type": "display_data"
    }
   ],
   "source": [
    "diagram_bar(df, 'month')"
   ]
  },
  {
   "cell_type": "code",
   "execution_count": 63,
   "metadata": {
    "execution": {
     "iopub.execute_input": "2020-09-26T11:10:49.839874Z",
     "iopub.status.busy": "2020-09-26T11:10:49.839122Z",
     "iopub.status.idle": "2020-09-26T11:10:49.871491Z",
     "shell.execute_reply": "2020-09-26T11:10:49.870796Z"
    },
    "papermill": {
     "duration": 0.166443,
     "end_time": "2020-09-26T11:10:49.871637",
     "exception": false,
     "start_time": "2020-09-26T11:10:49.705194",
     "status": "completed"
    },
    "tags": []
   },
   "outputs": [],
   "source": [
    "month = pd.get_dummies(df['month'])\n",
    "month.columns = ['Jan', 'Feb', 'Mar', 'Apr', 'May', 'June', 'July', 'Aug', 'Sept', 'Oct', 'Nov', 'Dec']\n",
    "df = pd.concat([df,month], axis=1)"
   ]
  },
  {
   "cell_type": "code",
   "execution_count": 64,
   "metadata": {
    "execution": {
     "iopub.execute_input": "2020-09-26T11:10:50.135139Z",
     "iopub.status.busy": "2020-09-26T11:10:50.133912Z",
     "iopub.status.idle": "2020-09-26T11:10:50.460806Z",
     "shell.execute_reply": "2020-09-26T11:10:50.459595Z"
    },
    "papermill": {
     "duration": 0.462483,
     "end_time": "2020-09-26T11:10:50.460950",
     "exception": false,
     "start_time": "2020-09-26T11:10:49.998467",
     "status": "completed"
    },
    "tags": []
   },
   "outputs": [
    {
     "name": "stdout",
     "output_type": "stream",
     "text": [
      "Jan\n",
      "Отвергаем нулевую гипотезу\n",
      "Feb\n",
      "Отвергаем нулевую гипотезу\n",
      "Mar\n",
      "Отвергаем нулевую гипотезу\n",
      "Apr\n",
      "Отвергаем нулевую гипотезу\n",
      "May\n",
      "Отвергаем нулевую гипотезу\n",
      "June\n",
      "Отвергаем нулевую гипотезу\n",
      "July\n",
      "Отвергаем нулевую гипотезу\n",
      "Aug\n",
      "Отвергаем нулевую гипотезу\n",
      "Sept\n",
      "Отвергаем нулевую гипотезу\n",
      "Oct\n",
      "Отвергаем нулевую гипотезу\n",
      "Nov\n",
      "Отвергаем нулевую гипотезу\n",
      "Dec\n",
      "Отвергаем нулевую гипотезу\n"
     ]
    }
   ],
   "source": [
    "for column in month.columns:\n",
    "    print(column)\n",
    "    hypothyroidism(df, column, 0.05)"
   ]
  },
  {
   "cell_type": "code",
   "execution_count": 65,
   "metadata": {
    "execution": {
     "iopub.execute_input": "2020-09-26T11:10:50.723929Z",
     "iopub.status.busy": "2020-09-26T11:10:50.722878Z",
     "iopub.status.idle": "2020-09-26T11:10:50.726438Z",
     "shell.execute_reply": "2020-09-26T11:10:50.725643Z"
    },
    "papermill": {
     "duration": 0.138381,
     "end_time": "2020-09-26T11:10:50.726582",
     "exception": false,
     "start_time": "2020-09-26T11:10:50.588201",
     "status": "completed"
    },
    "tags": []
   },
   "outputs": [],
   "source": [
    "#введем новые признаки разница между датами, и срок давности \n",
    "\n",
    "def delta_data(data):\n",
    "    if data['date_of_Review'] == []:\n",
    "        return None\n",
    "    return pd.to_datetime(data['date_of_Review']).max() - pd.to_datetime(data['date_of_Review']).min()\n",
    "\n",
    "def delta_data_now(data):\n",
    "    if data['date_of_Review'] == []:\n",
    "        return None\n",
    "    return datetime.datetime.now() - pd.to_datetime(data['date_of_Review']).max()"
   ]
  },
  {
   "cell_type": "code",
   "execution_count": 66,
   "metadata": {
    "execution": {
     "iopub.execute_input": "2020-09-26T11:10:51.001520Z",
     "iopub.status.busy": "2020-09-26T11:10:51.000687Z",
     "iopub.status.idle": "2020-09-26T11:12:02.787268Z",
     "shell.execute_reply": "2020-09-26T11:12:02.786572Z"
    },
    "papermill": {
     "duration": 71.935303,
     "end_time": "2020-09-26T11:12:02.787409",
     "exception": false,
     "start_time": "2020-09-26T11:10:50.852106",
     "status": "completed"
    },
    "tags": []
   },
   "outputs": [],
   "source": [
    "df['delta_data'] = df.apply(delta_data, axis = 1).dt.days\n",
    "df['delta_data_now'] = df.apply(delta_data_now, axis = 1).dt.days"
   ]
  },
  {
   "cell_type": "code",
   "execution_count": 67,
   "metadata": {
    "execution": {
     "iopub.execute_input": "2020-09-26T11:12:03.049773Z",
     "iopub.status.busy": "2020-09-26T11:12:03.049014Z",
     "iopub.status.idle": "2020-09-26T11:12:03.092740Z",
     "shell.execute_reply": "2020-09-26T11:12:03.092123Z"
    },
    "papermill": {
     "duration": 0.17876,
     "end_time": "2020-09-26T11:12:03.092869",
     "exception": false,
     "start_time": "2020-09-26T11:12:02.914109",
     "status": "completed"
    },
    "tags": []
   },
   "outputs": [],
   "source": [
    "df['LEN_Reviews'] = df['Reviews'].apply(lambda x: len(x))"
   ]
  },
  {
   "cell_type": "code",
   "execution_count": 68,
   "metadata": {
    "execution": {
     "iopub.execute_input": "2020-09-26T11:12:03.366790Z",
     "iopub.status.busy": "2020-09-26T11:12:03.365458Z",
     "iopub.status.idle": "2020-09-26T11:12:03.704805Z",
     "shell.execute_reply": "2020-09-26T11:12:03.704147Z"
    },
    "papermill": {
     "duration": 0.483465,
     "end_time": "2020-09-26T11:12:03.704935",
     "exception": false,
     "start_time": "2020-09-26T11:12:03.221470",
     "status": "completed"
    },
    "tags": []
   },
   "outputs": [
    {
     "data": {
      "image/png": "[encoded data removed]",
      "text/plain": [
       "<Figure size 432x288 with 2 Axes>"
      ]
     },
     "metadata": {
      "needs_background": "light"
     },
     "output_type": "display_data"
    }
   ],
   "source": [
    "diagram_bar(df, 'LEN_Reviews')"
   ]
  },
  {
   "cell_type": "code",
   "execution_count": 69,
   "metadata": {
    "execution": {
     "iopub.execute_input": "2020-09-26T11:12:03.979533Z",
     "iopub.status.busy": "2020-09-26T11:12:03.978773Z",
     "iopub.status.idle": "2020-09-26T11:12:06.352896Z",
     "shell.execute_reply": "2020-09-26T11:12:06.352302Z"
    },
    "papermill": {
     "duration": 2.521589,
     "end_time": "2020-09-26T11:12:06.353059",
     "exception": false,
     "start_time": "2020-09-26T11:12:03.831470",
     "status": "completed"
    },
    "tags": []
   },
   "outputs": [
    {
     "data": {
      "image/png": "[encoded data removed]",
      "text/plain": [
       "<Figure size 432x288 with 1 Axes>"
      ]
     },
     "metadata": {
      "needs_background": "light"
     },
     "output_type": "display_data"
    }
   ],
   "source": [
    "for x in df['Restaurant_id'].value_counts().index[0:10]:\n",
    "    df['LEN_Reviews'][df['Restaurant_id'] == x].hist(bins=100)\n",
    "plt.show()"
   ]
  },
  {
   "cell_type": "markdown",
   "metadata": {
    "papermill": {
     "duration": 0.129299,
     "end_time": "2020-09-26T11:12:06.611150",
     "exception": false,
     "start_time": "2020-09-26T11:12:06.481851",
     "status": "completed"
    },
    "tags": []
   },
   "source": [
    "**Шаг 5.** Отберем необходимые факторы в модель."
   ]
  },
  {
   "cell_type": "code",
   "execution_count": 70,
   "metadata": {
    "execution": {
     "iopub.execute_input": "2020-09-26T11:12:06.881201Z",
     "iopub.status.busy": "2020-09-26T11:12:06.880387Z",
     "iopub.status.idle": "2020-09-26T11:12:06.895173Z",
     "shell.execute_reply": "2020-09-26T11:12:06.894524Z"
    },
    "papermill": {
     "duration": 0.154431,
     "end_time": "2020-09-26T11:12:06.895315",
     "exception": false,
     "start_time": "2020-09-26T11:12:06.740884",
     "status": "completed"
    },
    "tags": []
   },
   "outputs": [],
   "source": [
    "df.drop(['Restaurant_id', 'City', 'Cuisine Style', 'Price Range', 'Reviews', 'URL_TA', 'ID_TA', 'date_of_Review', 'Сountry', 'Сity_population', 'mean_Ranking_on_City', 'count_Restorant_in_City', 'max_Ranking_on_City'], axis=1, inplace=True, errors='ignore')\n",
    "df_model = df"
   ]
  },
  {
   "cell_type": "code",
   "execution_count": 71,
   "metadata": {
    "execution": {
     "iopub.execute_input": "2020-09-26T11:12:07.166745Z",
     "iopub.status.busy": "2020-09-26T11:12:07.165959Z",
     "iopub.status.idle": "2020-09-26T11:12:07.356967Z",
     "shell.execute_reply": "2020-09-26T11:12:07.357592Z"
    },
    "papermill": {
     "duration": 0.332518,
     "end_time": "2020-09-26T11:12:07.357762",
     "exception": false,
     "start_time": "2020-09-26T11:12:07.025244",
     "status": "completed"
    },
    "tags": []
   },
   "outputs": [
    {
     "data": {
      "text/html": [
       "<div>\n",
       "<style scoped>\n",
       "    .dataframe tbody tr th:only-of-type {\n",
       "        vertical-align: middle;\n",
       "    }\n",
       "\n",
       "    .dataframe tbody tr th {\n",
       "        vertical-align: top;\n",
       "    }\n",
       "\n",
       "    .dataframe thead th {\n",
       "        text-align: right;\n",
       "    }\n",
       "</style>\n",
       "<table border=\"1\" class=\"dataframe\">\n",
       "  <thead>\n",
       "    <tr style=\"text-align: right;\">\n",
       "      <th></th>\n",
       "      <th>Ranking</th>\n",
       "      <th>Number of Reviews</th>\n",
       "      <th>Sample</th>\n",
       "      <th>Rating</th>\n",
       "      <th>City_code</th>\n",
       "      <th>capital</th>\n",
       "      <th>Сity_income</th>\n",
       "      <th>code_Сountry</th>\n",
       "      <th>NAN_Cuisine</th>\n",
       "      <th>quantity_Cuisine_Style</th>\n",
       "      <th>Ranking_City_mean</th>\n",
       "      <th>Restorant_City_count</th>\n",
       "      <th>Ranking_Rest_City_norm</th>\n",
       "      <th>LOG_Number_Reviews</th>\n",
       "      <th>NAN_Number_Reviews</th>\n",
       "      <th>empty_Reviews</th>\n",
       "      <th>len_date</th>\n",
       "      <th>week_day</th>\n",
       "      <th>month</th>\n",
       "      <th>mo</th>\n",
       "      <th>Tu</th>\n",
       "      <th>We</th>\n",
       "      <th>Th</th>\n",
       "      <th>Fr</th>\n",
       "      <th>Sa</th>\n",
       "      <th>Su</th>\n",
       "      <th>Jan</th>\n",
       "      <th>Feb</th>\n",
       "      <th>Mar</th>\n",
       "      <th>Apr</th>\n",
       "      <th>May</th>\n",
       "      <th>June</th>\n",
       "      <th>July</th>\n",
       "      <th>Aug</th>\n",
       "      <th>Sept</th>\n",
       "      <th>Oct</th>\n",
       "      <th>Nov</th>\n",
       "      <th>Dec</th>\n",
       "      <th>delta_data</th>\n",
       "      <th>delta_data_now</th>\n",
       "      <th>LEN_Reviews</th>\n",
       "    </tr>\n",
       "  </thead>\n",
       "  <tbody>\n",
       "    <tr>\n",
       "      <th>count</th>\n",
       "      <td>50000.000000</td>\n",
       "      <td>50000.000000</td>\n",
       "      <td>50000.000000</td>\n",
       "      <td>50000.000000</td>\n",
       "      <td>50000.000000</td>\n",
       "      <td>50000.000000</td>\n",
       "      <td>50000.000000</td>\n",
       "      <td>50000.000000</td>\n",
       "      <td>50000.000000</td>\n",
       "      <td>50000.000000</td>\n",
       "      <td>50000.000000</td>\n",
       "      <td>50000.000000</td>\n",
       "      <td>5.000000e+04</td>\n",
       "      <td>50000.000000</td>\n",
       "      <td>50000.000000</td>\n",
       "      <td>50000.000000</td>\n",
       "      <td>50000.000000</td>\n",
       "      <td>50000.000000</td>\n",
       "      <td>50000.000000</td>\n",
       "      <td>50000.000000</td>\n",
       "      <td>50000.000000</td>\n",
       "      <td>50000.000000</td>\n",
       "      <td>50000.000000</td>\n",
       "      <td>50000.000000</td>\n",
       "      <td>50000.000000</td>\n",
       "      <td>50000.000000</td>\n",
       "      <td>50000.000000</td>\n",
       "      <td>50000.000000</td>\n",
       "      <td>50000.00000</td>\n",
       "      <td>50000.00000</td>\n",
       "      <td>50000.00000</td>\n",
       "      <td>50000.000000</td>\n",
       "      <td>50000.000000</td>\n",
       "      <td>50000.00000</td>\n",
       "      <td>50000.000000</td>\n",
       "      <td>50000.000000</td>\n",
       "      <td>50000.000000</td>\n",
       "      <td>50000.000000</td>\n",
       "      <td>41886.000000</td>\n",
       "      <td>41886.000000</td>\n",
       "      <td>50000.000000</td>\n",
       "    </tr>\n",
       "    <tr>\n",
       "      <th>mean</th>\n",
       "      <td>3664.427520</td>\n",
       "      <td>118.617040</td>\n",
       "      <td>0.800000</td>\n",
       "      <td>3.194430</td>\n",
       "      <td>15.955640</td>\n",
       "      <td>0.752700</td>\n",
       "      <td>2977.557460</td>\n",
       "      <td>10.014760</td>\n",
       "      <td>0.231800</td>\n",
       "      <td>3.088920</td>\n",
       "      <td>3664.427520</td>\n",
       "      <td>3196.634400</td>\n",
       "      <td>-5.211387e-18</td>\n",
       "      <td>3.595321</td>\n",
       "      <td>0.064000</td>\n",
       "      <td>0.162280</td>\n",
       "      <td>1.561920</td>\n",
       "      <td>3.493180</td>\n",
       "      <td>8.272280</td>\n",
       "      <td>0.119320</td>\n",
       "      <td>0.123060</td>\n",
       "      <td>0.126420</td>\n",
       "      <td>0.110740</td>\n",
       "      <td>0.108060</td>\n",
       "      <td>0.121580</td>\n",
       "      <td>0.290820</td>\n",
       "      <td>0.119260</td>\n",
       "      <td>0.035060</td>\n",
       "      <td>0.02574</td>\n",
       "      <td>0.03218</td>\n",
       "      <td>0.04020</td>\n",
       "      <td>0.042620</td>\n",
       "      <td>0.055680</td>\n",
       "      <td>0.05950</td>\n",
       "      <td>0.071820</td>\n",
       "      <td>0.098960</td>\n",
       "      <td>0.109260</td>\n",
       "      <td>0.309720</td>\n",
       "      <td>123.218331</td>\n",
       "      <td>1233.045361</td>\n",
       "      <td>69.956820</td>\n",
       "    </tr>\n",
       "    <tr>\n",
       "      <th>std</th>\n",
       "      <td>3700.092452</td>\n",
       "      <td>285.426269</td>\n",
       "      <td>0.400004</td>\n",
       "      <td>1.705453</td>\n",
       "      <td>8.682093</td>\n",
       "      <td>0.431447</td>\n",
       "      <td>1186.815254</td>\n",
       "      <td>6.449897</td>\n",
       "      <td>0.421986</td>\n",
       "      <td>1.591334</td>\n",
       "      <td>2623.722828</td>\n",
       "      <td>2321.787321</td>\n",
       "      <td>6.674963e-01</td>\n",
       "      <td>1.514872</td>\n",
       "      <td>0.244755</td>\n",
       "      <td>0.368711</td>\n",
       "      <td>0.755577</td>\n",
       "      <td>2.158974</td>\n",
       "      <td>3.896784</td>\n",
       "      <td>0.324168</td>\n",
       "      <td>0.328509</td>\n",
       "      <td>0.332325</td>\n",
       "      <td>0.313813</td>\n",
       "      <td>0.310459</td>\n",
       "      <td>0.326803</td>\n",
       "      <td>0.454145</td>\n",
       "      <td>0.324097</td>\n",
       "      <td>0.183933</td>\n",
       "      <td>0.15836</td>\n",
       "      <td>0.17648</td>\n",
       "      <td>0.19643</td>\n",
       "      <td>0.202001</td>\n",
       "      <td>0.229305</td>\n",
       "      <td>0.23656</td>\n",
       "      <td>0.258192</td>\n",
       "      <td>0.298611</td>\n",
       "      <td>0.311968</td>\n",
       "      <td>0.462383</td>\n",
       "      <td>212.592518</td>\n",
       "      <td>363.252094</td>\n",
       "      <td>33.453345</td>\n",
       "    </tr>\n",
       "    <tr>\n",
       "      <th>min</th>\n",
       "      <td>1.000000</td>\n",
       "      <td>2.000000</td>\n",
       "      <td>0.000000</td>\n",
       "      <td>0.000000</td>\n",
       "      <td>0.000000</td>\n",
       "      <td>0.000000</td>\n",
       "      <td>670.000000</td>\n",
       "      <td>0.000000</td>\n",
       "      <td>0.000000</td>\n",
       "      <td>1.000000</td>\n",
       "      <td>234.509009</td>\n",
       "      <td>222.000000</td>\n",
       "      <td>-1.209024e+00</td>\n",
       "      <td>1.098612</td>\n",
       "      <td>0.000000</td>\n",
       "      <td>0.000000</td>\n",
       "      <td>0.000000</td>\n",
       "      <td>0.000000</td>\n",
       "      <td>1.000000</td>\n",
       "      <td>0.000000</td>\n",
       "      <td>0.000000</td>\n",
       "      <td>0.000000</td>\n",
       "      <td>0.000000</td>\n",
       "      <td>0.000000</td>\n",
       "      <td>0.000000</td>\n",
       "      <td>0.000000</td>\n",
       "      <td>0.000000</td>\n",
       "      <td>0.000000</td>\n",
       "      <td>0.00000</td>\n",
       "      <td>0.00000</td>\n",
       "      <td>0.00000</td>\n",
       "      <td>0.000000</td>\n",
       "      <td>0.000000</td>\n",
       "      <td>0.00000</td>\n",
       "      <td>0.000000</td>\n",
       "      <td>0.000000</td>\n",
       "      <td>0.000000</td>\n",
       "      <td>0.000000</td>\n",
       "      <td>0.000000</td>\n",
       "      <td>943.000000</td>\n",
       "      <td>8.000000</td>\n",
       "    </tr>\n",
       "    <tr>\n",
       "      <th>25%</th>\n",
       "      <td>972.000000</td>\n",
       "      <td>10.000000</td>\n",
       "      <td>1.000000</td>\n",
       "      <td>3.000000</td>\n",
       "      <td>8.000000</td>\n",
       "      <td>1.000000</td>\n",
       "      <td>2511.000000</td>\n",
       "      <td>4.000000</td>\n",
       "      <td>0.000000</td>\n",
       "      <td>2.000000</td>\n",
       "      <td>1370.297817</td>\n",
       "      <td>1145.000000</td>\n",
       "      <td>-5.776474e-01</td>\n",
       "      <td>2.397895</td>\n",
       "      <td>0.000000</td>\n",
       "      <td>0.000000</td>\n",
       "      <td>1.000000</td>\n",
       "      <td>2.000000</td>\n",
       "      <td>5.000000</td>\n",
       "      <td>0.000000</td>\n",
       "      <td>0.000000</td>\n",
       "      <td>0.000000</td>\n",
       "      <td>0.000000</td>\n",
       "      <td>0.000000</td>\n",
       "      <td>0.000000</td>\n",
       "      <td>0.000000</td>\n",
       "      <td>0.000000</td>\n",
       "      <td>0.000000</td>\n",
       "      <td>0.00000</td>\n",
       "      <td>0.00000</td>\n",
       "      <td>0.00000</td>\n",
       "      <td>0.000000</td>\n",
       "      <td>0.000000</td>\n",
       "      <td>0.00000</td>\n",
       "      <td>0.000000</td>\n",
       "      <td>0.000000</td>\n",
       "      <td>0.000000</td>\n",
       "      <td>0.000000</td>\n",
       "      <td>8.000000</td>\n",
       "      <td>1022.000000</td>\n",
       "      <td>54.000000</td>\n",
       "    </tr>\n",
       "    <tr>\n",
       "      <th>50%</th>\n",
       "      <td>2278.000000</td>\n",
       "      <td>33.000000</td>\n",
       "      <td>1.000000</td>\n",
       "      <td>4.000000</td>\n",
       "      <td>16.000000</td>\n",
       "      <td>1.000000</td>\n",
       "      <td>2663.000000</td>\n",
       "      <td>7.000000</td>\n",
       "      <td>0.000000</td>\n",
       "      <td>3.000000</td>\n",
       "      <td>3106.027840</td>\n",
       "      <td>2694.000000</td>\n",
       "      <td>-4.143651e-03</td>\n",
       "      <td>3.526361</td>\n",
       "      <td>0.000000</td>\n",
       "      <td>0.000000</td>\n",
       "      <td>2.000000</td>\n",
       "      <td>4.000000</td>\n",
       "      <td>10.000000</td>\n",
       "      <td>0.000000</td>\n",
       "      <td>0.000000</td>\n",
       "      <td>0.000000</td>\n",
       "      <td>0.000000</td>\n",
       "      <td>0.000000</td>\n",
       "      <td>0.000000</td>\n",
       "      <td>0.000000</td>\n",
       "      <td>0.000000</td>\n",
       "      <td>0.000000</td>\n",
       "      <td>0.00000</td>\n",
       "      <td>0.00000</td>\n",
       "      <td>0.00000</td>\n",
       "      <td>0.000000</td>\n",
       "      <td>0.000000</td>\n",
       "      <td>0.00000</td>\n",
       "      <td>0.000000</td>\n",
       "      <td>0.000000</td>\n",
       "      <td>0.000000</td>\n",
       "      <td>0.000000</td>\n",
       "      <td>49.000000</td>\n",
       "      <td>1096.000000</td>\n",
       "      <td>78.000000</td>\n",
       "    </tr>\n",
       "    <tr>\n",
       "      <th>75%</th>\n",
       "      <td>5241.000000</td>\n",
       "      <td>105.000000</td>\n",
       "      <td>1.000000</td>\n",
       "      <td>4.500000</td>\n",
       "      <td>24.000000</td>\n",
       "      <td>1.000000</td>\n",
       "      <td>3617.000000</td>\n",
       "      <td>15.000000</td>\n",
       "      <td>0.000000</td>\n",
       "      <td>4.000000</td>\n",
       "      <td>6938.557138</td>\n",
       "      <td>6108.000000</td>\n",
       "      <td>5.762193e-01</td>\n",
       "      <td>4.663439</td>\n",
       "      <td>0.000000</td>\n",
       "      <td>0.000000</td>\n",
       "      <td>2.000000</td>\n",
       "      <td>6.000000</td>\n",
       "      <td>12.000000</td>\n",
       "      <td>0.000000</td>\n",
       "      <td>0.000000</td>\n",
       "      <td>0.000000</td>\n",
       "      <td>0.000000</td>\n",
       "      <td>0.000000</td>\n",
       "      <td>0.000000</td>\n",
       "      <td>1.000000</td>\n",
       "      <td>0.000000</td>\n",
       "      <td>0.000000</td>\n",
       "      <td>0.00000</td>\n",
       "      <td>0.00000</td>\n",
       "      <td>0.00000</td>\n",
       "      <td>0.000000</td>\n",
       "      <td>0.000000</td>\n",
       "      <td>0.00000</td>\n",
       "      <td>0.000000</td>\n",
       "      <td>0.000000</td>\n",
       "      <td>0.000000</td>\n",
       "      <td>1.000000</td>\n",
       "      <td>148.000000</td>\n",
       "      <td>1280.000000</td>\n",
       "      <td>94.000000</td>\n",
       "    </tr>\n",
       "    <tr>\n",
       "      <th>max</th>\n",
       "      <td>16444.000000</td>\n",
       "      <td>9660.000000</td>\n",
       "      <td>1.000000</td>\n",
       "      <td>5.000000</td>\n",
       "      <td>30.000000</td>\n",
       "      <td>1.000000</td>\n",
       "      <td>6758.000000</td>\n",
       "      <td>22.000000</td>\n",
       "      <td>1.000000</td>\n",
       "      <td>21.000000</td>\n",
       "      <td>8169.707354</td>\n",
       "      <td>7193.000000</td>\n",
       "      <td>1.216334e+00</td>\n",
       "      <td>9.175852</td>\n",
       "      <td>1.000000</td>\n",
       "      <td>1.000000</td>\n",
       "      <td>3.000000</td>\n",
       "      <td>6.000000</td>\n",
       "      <td>12.000000</td>\n",
       "      <td>1.000000</td>\n",
       "      <td>1.000000</td>\n",
       "      <td>1.000000</td>\n",
       "      <td>1.000000</td>\n",
       "      <td>1.000000</td>\n",
       "      <td>1.000000</td>\n",
       "      <td>1.000000</td>\n",
       "      <td>1.000000</td>\n",
       "      <td>1.000000</td>\n",
       "      <td>1.00000</td>\n",
       "      <td>1.00000</td>\n",
       "      <td>1.00000</td>\n",
       "      <td>1.000000</td>\n",
       "      <td>1.000000</td>\n",
       "      <td>1.00000</td>\n",
       "      <td>1.000000</td>\n",
       "      <td>1.000000</td>\n",
       "      <td>1.000000</td>\n",
       "      <td>1.000000</td>\n",
       "      <td>3296.000000</td>\n",
       "      <td>6002.000000</td>\n",
       "      <td>130.000000</td>\n",
       "    </tr>\n",
       "  </tbody>\n",
       "</table>\n",
       "</div>"
      ],
      "text/plain": [
       "            Ranking  Number of Reviews        Sample        Rating  \\\n",
       "count  50000.000000       50000.000000  50000.000000  50000.000000   \n",
       "mean    3664.427520         118.617040      0.800000      3.194430   \n",
       "std     3700.092452         285.426269      0.400004      1.705453   \n",
       "min        1.000000           2.000000      0.000000      0.000000   \n",
       "25%      972.000000          10.000000      1.000000      3.000000   \n",
       "50%     2278.000000          33.000000      1.000000      4.000000   \n",
       "75%     5241.000000         105.000000      1.000000      4.500000   \n",
       "max    16444.000000        9660.000000      1.000000      5.000000   \n",
       "\n",
       "          City_code       capital   Сity_income  code_Сountry   NAN_Cuisine  \\\n",
       "count  50000.000000  50000.000000  50000.000000  50000.000000  50000.000000   \n",
       "mean      15.955640      0.752700   2977.557460     10.014760      0.231800   \n",
       "std        8.682093      0.431447   1186.815254      6.449897      0.421986   \n",
       "min        0.000000      0.000000    670.000000      0.000000      0.000000   \n",
       "25%        8.000000      1.000000   2511.000000      4.000000      0.000000   \n",
       "50%       16.000000      1.000000   2663.000000      7.000000      0.000000   \n",
       "75%       24.000000      1.000000   3617.000000     15.000000      0.000000   \n",
       "max       30.000000      1.000000   6758.000000     22.000000      1.000000   \n",
       "\n",
       "       quantity_Cuisine_Style  Ranking_City_mean  Restorant_City_count  \\\n",
       "count            50000.000000       50000.000000          50000.000000   \n",
       "mean                 3.088920        3664.427520           3196.634400   \n",
       "std                  1.591334        2623.722828           2321.787321   \n",
       "min                  1.000000         234.509009            222.000000   \n",
       "25%                  2.000000        1370.297817           1145.000000   \n",
       "50%                  3.000000        3106.027840           2694.000000   \n",
       "75%                  4.000000        6938.557138           6108.000000   \n",
       "max                 21.000000        8169.707354           7193.000000   \n",
       "\n",
       "       Ranking_Rest_City_norm  LOG_Number_Reviews  NAN_Number_Reviews  \\\n",
       "count            5.000000e+04        50000.000000        50000.000000   \n",
       "mean            -5.211387e-18            3.595321            0.064000   \n",
       "std              6.674963e-01            1.514872            0.244755   \n",
       "min             -1.209024e+00            1.098612            0.000000   \n",
       "25%             -5.776474e-01            2.397895            0.000000   \n",
       "50%             -4.143651e-03            3.526361            0.000000   \n",
       "75%              5.762193e-01            4.663439            0.000000   \n",
       "max              1.216334e+00            9.175852            1.000000   \n",
       "\n",
       "       empty_Reviews      len_date      week_day         month            mo  \\\n",
       "count   50000.000000  50000.000000  50000.000000  50000.000000  50000.000000   \n",
       "mean        0.162280      1.561920      3.493180      8.272280      0.119320   \n",
       "std         0.368711      0.755577      2.158974      3.896784      0.324168   \n",
       "min         0.000000      0.000000      0.000000      1.000000      0.000000   \n",
       "25%         0.000000      1.000000      2.000000      5.000000      0.000000   \n",
       "50%         0.000000      2.000000      4.000000     10.000000      0.000000   \n",
       "75%         0.000000      2.000000      6.000000     12.000000      0.000000   \n",
       "max         1.000000      3.000000      6.000000     12.000000      1.000000   \n",
       "\n",
       "                 Tu            We            Th            Fr            Sa  \\\n",
       "count  50000.000000  50000.000000  50000.000000  50000.000000  50000.000000   \n",
       "mean       0.123060      0.126420      0.110740      0.108060      0.121580   \n",
       "std        0.328509      0.332325      0.313813      0.310459      0.326803   \n",
       "min        0.000000      0.000000      0.000000      0.000000      0.000000   \n",
       "25%        0.000000      0.000000      0.000000      0.000000      0.000000   \n",
       "50%        0.000000      0.000000      0.000000      0.000000      0.000000   \n",
       "75%        0.000000      0.000000      0.000000      0.000000      0.000000   \n",
       "max        1.000000      1.000000      1.000000      1.000000      1.000000   \n",
       "\n",
       "                 Su           Jan           Feb          Mar          Apr  \\\n",
       "count  50000.000000  50000.000000  50000.000000  50000.00000  50000.00000   \n",
       "mean       0.290820      0.119260      0.035060      0.02574      0.03218   \n",
       "std        0.454145      0.324097      0.183933      0.15836      0.17648   \n",
       "min        0.000000      0.000000      0.000000      0.00000      0.00000   \n",
       "25%        0.000000      0.000000      0.000000      0.00000      0.00000   \n",
       "50%        0.000000      0.000000      0.000000      0.00000      0.00000   \n",
       "75%        1.000000      0.000000      0.000000      0.00000      0.00000   \n",
       "max        1.000000      1.000000      1.000000      1.00000      1.00000   \n",
       "\n",
       "               May          June          July          Aug          Sept  \\\n",
       "count  50000.00000  50000.000000  50000.000000  50000.00000  50000.000000   \n",
       "mean       0.04020      0.042620      0.055680      0.05950      0.071820   \n",
       "std        0.19643      0.202001      0.229305      0.23656      0.258192   \n",
       "min        0.00000      0.000000      0.000000      0.00000      0.000000   \n",
       "25%        0.00000      0.000000      0.000000      0.00000      0.000000   \n",
       "50%        0.00000      0.000000      0.000000      0.00000      0.000000   \n",
       "75%        0.00000      0.000000      0.000000      0.00000      0.000000   \n",
       "max        1.00000      1.000000      1.000000      1.00000      1.000000   \n",
       "\n",
       "                Oct           Nov           Dec    delta_data  delta_data_now  \\\n",
       "count  50000.000000  50000.000000  50000.000000  41886.000000    41886.000000   \n",
       "mean       0.098960      0.109260      0.309720    123.218331     1233.045361   \n",
       "std        0.298611      0.311968      0.462383    212.592518      363.252094   \n",
       "min        0.000000      0.000000      0.000000      0.000000      943.000000   \n",
       "25%        0.000000      0.000000      0.000000      8.000000     1022.000000   \n",
       "50%        0.000000      0.000000      0.000000     49.000000     1096.000000   \n",
       "75%        0.000000      0.000000      1.000000    148.000000     1280.000000   \n",
       "max        1.000000      1.000000      1.000000   3296.000000     6002.000000   \n",
       "\n",
       "        LEN_Reviews  \n",
       "count  50000.000000  \n",
       "mean      69.956820  \n",
       "std       33.453345  \n",
       "min        8.000000  \n",
       "25%       54.000000  \n",
       "50%       78.000000  \n",
       "75%       94.000000  \n",
       "max      130.000000  "
      ]
     },
     "metadata": {},
     "output_type": "display_data"
    }
   ],
   "source": [
    "display(df_model.describe())"
   ]
  },
  {
   "cell_type": "code",
   "execution_count": 72,
   "metadata": {
    "execution": {
     "iopub.execute_input": "2020-09-26T11:12:07.633904Z",
     "iopub.status.busy": "2020-09-26T11:12:07.632760Z",
     "iopub.status.idle": "2020-09-26T11:12:08.105352Z",
     "shell.execute_reply": "2020-09-26T11:12:08.104705Z"
    },
    "papermill": {
     "duration": 0.616696,
     "end_time": "2020-09-26T11:12:08.105484",
     "exception": false,
     "start_time": "2020-09-26T11:12:07.488788",
     "status": "completed"
    },
    "tags": []
   },
   "outputs": [],
   "source": [
    "#стандартизируем два столбца Ranking, City_code\n",
    "\n",
    "def StandardScaler_column(d_col):\n",
    "    scaler = StandardScaler()\n",
    "    scaler.fit(df_model[[d_col]])\n",
    "    return scaler.transform(df_model[[d_col]])\n",
    "\n",
    "for column in df_model.columns:\n",
    "    if column not in ['Rating','Sample']:\n",
    "        df_model[column] = StandardScaler_column(column)\n",
    "        if len(df_model[df_model[column].isna()]) < len(df_model):\n",
    "            df_model[column] = df_model[column].fillna(0)\n",
    "    \n"
   ]
  },
  {
   "cell_type": "markdown",
   "metadata": {
    "papermill": {
     "duration": 0.129584,
     "end_time": "2020-09-26T11:12:08.366995",
     "exception": false,
     "start_time": "2020-09-26T11:12:08.237411",
     "status": "completed"
    },
    "tags": []
   },
   "source": [
    "**Шаг 6.** Разбиваем df_model на обучающей и тестовый и проверяем тренировочную выборку"
   ]
  },
  {
   "cell_type": "code",
   "execution_count": 73,
   "metadata": {
    "execution": {
     "iopub.execute_input": "2020-09-26T11:12:08.638284Z",
     "iopub.status.busy": "2020-09-26T11:12:08.633174Z",
     "iopub.status.idle": "2020-09-26T11:12:08.659454Z",
     "shell.execute_reply": "2020-09-26T11:12:08.658656Z"
    },
    "papermill": {
     "duration": 0.162444,
     "end_time": "2020-09-26T11:12:08.659584",
     "exception": false,
     "start_time": "2020-09-26T11:12:08.497140",
     "status": "completed"
    },
    "tags": []
   },
   "outputs": [],
   "source": [
    "train_data = df_model.query('Sample == 1').drop(['Sample'], axis=1)\n",
    "test_data = df_model.query('Sample == 0').drop(['Sample'], axis=1)"
   ]
  },
  {
   "cell_type": "code",
   "execution_count": 74,
   "metadata": {
    "execution": {
     "iopub.execute_input": "2020-09-26T11:12:08.932176Z",
     "iopub.status.busy": "2020-09-26T11:12:08.931376Z",
     "iopub.status.idle": "2020-09-26T11:12:08.945096Z",
     "shell.execute_reply": "2020-09-26T11:12:08.944451Z"
    },
    "papermill": {
     "duration": 0.156076,
     "end_time": "2020-09-26T11:12:08.945240",
     "exception": false,
     "start_time": "2020-09-26T11:12:08.789164",
     "status": "completed"
    },
    "tags": []
   },
   "outputs": [],
   "source": [
    "# Проверяем модель на обучающей выборке\n",
    "\n",
    "y = train_data.Rating.values            \n",
    "X = train_data.drop(['Rating'], axis=1)\n",
    "\n",
    "# Воспользуемся специальной функцие train_test_split для разбивки тестовых данных\n",
    "# выделим 20% данных на валидацию (параметр test_size)\n",
    "X_train, X_test, y_train, y_test = train_test_split(X, y, test_size=0.2, random_state=RANDOM_SEED)"
   ]
  },
  {
   "cell_type": "code",
   "execution_count": 75,
   "metadata": {
    "execution": {
     "iopub.execute_input": "2020-09-26T11:12:09.218793Z",
     "iopub.status.busy": "2020-09-26T11:12:09.217914Z",
     "iopub.status.idle": "2020-09-26T11:12:09.223513Z",
     "shell.execute_reply": "2020-09-26T11:12:09.222705Z"
    },
    "papermill": {
     "duration": 0.143711,
     "end_time": "2020-09-26T11:12:09.223651",
     "exception": false,
     "start_time": "2020-09-26T11:12:09.079940",
     "status": "completed"
    },
    "tags": []
   },
   "outputs": [
    {
     "data": {
      "text/plain": [
       "((10000, 41), (40000, 41), (40000, 40), (32000, 40), (8000, 40))"
      ]
     },
     "execution_count": 75,
     "metadata": {},
     "output_type": "execute_result"
    }
   ],
   "source": [
    "# проверяем\n",
    "test_data.shape, train_data.shape, X.shape, X_train.shape, X_test.shape"
   ]
  },
  {
   "cell_type": "code",
   "execution_count": 76,
   "metadata": {
    "execution": {
     "iopub.execute_input": "2020-09-26T11:12:09.494948Z",
     "iopub.status.busy": "2020-09-26T11:12:09.494180Z",
     "iopub.status.idle": "2020-09-26T11:12:09.497185Z",
     "shell.execute_reply": "2020-09-26T11:12:09.496548Z"
    },
    "papermill": {
     "duration": 0.14046,
     "end_time": "2020-09-26T11:12:09.497315",
     "exception": false,
     "start_time": "2020-09-26T11:12:09.356855",
     "status": "completed"
    },
    "tags": []
   },
   "outputs": [],
   "source": [
    "# Создаём модель\n",
    "model = RandomForestRegressor(n_estimators=100, verbose=1, n_jobs=-1, random_state=RANDOM_SEED)"
   ]
  },
  {
   "cell_type": "code",
   "execution_count": 77,
   "metadata": {
    "execution": {
     "iopub.execute_input": "2020-09-26T11:12:09.771015Z",
     "iopub.status.busy": "2020-09-26T11:12:09.770230Z",
     "iopub.status.idle": "2020-09-26T11:12:21.884202Z",
     "shell.execute_reply": "2020-09-26T11:12:21.885247Z"
    },
    "papermill": {
     "duration": 12.254841,
     "end_time": "2020-09-26T11:12:21.885491",
     "exception": false,
     "start_time": "2020-09-26T11:12:09.630650",
     "status": "completed"
    },
    "tags": []
   },
   "outputs": [
    {
     "name": "stderr",
     "output_type": "stream",
     "text": [
      "[Parallel(n_jobs=-1)]: Using backend ThreadingBackend with 4 concurrent workers.\n",
      "[Parallel(n_jobs=-1)]: Done  42 tasks      | elapsed:    5.1s\n",
      "[Parallel(n_jobs=-1)]: Done 100 out of 100 | elapsed:   11.9s finished\n",
      "[Parallel(n_jobs=4)]: Using backend ThreadingBackend with 4 concurrent workers.\n",
      "[Parallel(n_jobs=4)]: Done  42 tasks      | elapsed:    0.0s\n",
      "[Parallel(n_jobs=4)]: Done 100 out of 100 | elapsed:    0.1s finished\n"
     ]
    }
   ],
   "source": [
    "# Обучаем модель на тестовом наборе данных\n",
    "model.fit(X_train, y_train)\n",
    "\n",
    "# Используем обученную модель для предсказания рейтинга ресторанов в тестовой выборке.\n",
    "# Предсказанные значения записываем в переменную y_pred\n",
    "y_pred = model.predict(X_test)"
   ]
  },
  {
   "cell_type": "code",
   "execution_count": 78,
   "metadata": {
    "execution": {
     "iopub.execute_input": "2020-09-26T11:12:22.166301Z",
     "iopub.status.busy": "2020-09-26T11:12:22.165274Z",
     "iopub.status.idle": "2020-09-26T11:12:22.168335Z",
     "shell.execute_reply": "2020-09-26T11:12:22.168924Z"
    },
    "papermill": {
     "duration": 0.149156,
     "end_time": "2020-09-26T11:12:22.169144",
     "exception": false,
     "start_time": "2020-09-26T11:12:22.019988",
     "status": "completed"
    },
    "tags": []
   },
   "outputs": [],
   "source": [
    "# функция стандартного математического округления\n",
    "def classic_round(d_num):\n",
    "    return int(d_num + (0.5 if d_num > 0 else -0.5))\n",
    "\n",
    "# функция округления кратно 0.5\n",
    "def my_round(d_pred):\n",
    "    result = classic_round(d_pred*2)/2\n",
    "    if result <=5:\n",
    "        return result\n",
    "    else:\n",
    "        return 5\n",
    "    \n",
    "# создание функции для векторов np\n",
    "my_vec_round = np.vectorize(my_round)"
   ]
  },
  {
   "cell_type": "code",
   "execution_count": 79,
   "metadata": {
    "execution": {
     "iopub.execute_input": "2020-09-26T11:12:22.453643Z",
     "iopub.status.busy": "2020-09-26T11:12:22.452622Z",
     "iopub.status.idle": "2020-09-26T11:12:22.456398Z",
     "shell.execute_reply": "2020-09-26T11:12:22.455601Z"
    },
    "papermill": {
     "duration": 0.151295,
     "end_time": "2020-09-26T11:12:22.456537",
     "exception": false,
     "start_time": "2020-09-26T11:12:22.305242",
     "status": "completed"
    },
    "tags": []
   },
   "outputs": [],
   "source": [
    "y_pred = my_vec_round(y_pred)"
   ]
  },
  {
   "cell_type": "code",
   "execution_count": 80,
   "metadata": {
    "execution": {
     "iopub.execute_input": "2020-09-26T11:12:22.731545Z",
     "iopub.status.busy": "2020-09-26T11:12:22.730578Z",
     "iopub.status.idle": "2020-09-26T11:12:22.735162Z",
     "shell.execute_reply": "2020-09-26T11:12:22.734372Z"
    },
    "papermill": {
     "duration": 0.144595,
     "end_time": "2020-09-26T11:12:22.735300",
     "exception": false,
     "start_time": "2020-09-26T11:12:22.590705",
     "status": "completed"
    },
    "tags": []
   },
   "outputs": [
    {
     "name": "stdout",
     "output_type": "stream",
     "text": [
      "MAE: 0.1739375\n"
     ]
    }
   ],
   "source": [
    "# Сравниваем предсказанные значения (y_pred) с реальными (y_test), и смотрим насколько они в среднем отличаются\n",
    "# Метрика называется Mean Absolute Error (MAE) и показывает среднее отклонение предсказанных значений от фактических.\n",
    "MAE = metrics.mean_absolute_error(y_test, y_pred)\n",
    "print('MAE:', MAE)"
   ]
  },
  {
   "cell_type": "code",
   "execution_count": 81,
   "metadata": {
    "execution": {
     "iopub.execute_input": "2020-09-26T11:12:23.012985Z",
     "iopub.status.busy": "2020-09-26T11:12:23.011911Z",
     "iopub.status.idle": "2020-09-26T11:12:23.358467Z",
     "shell.execute_reply": "2020-09-26T11:12:23.357872Z"
    },
    "papermill": {
     "duration": 0.488933,
     "end_time": "2020-09-26T11:12:23.358595",
     "exception": false,
     "start_time": "2020-09-26T11:12:22.869662",
     "status": "completed"
    },
    "tags": []
   },
   "outputs": [
    {
     "data": {
      "text/plain": [
       "<matplotlib.axes._subplots.AxesSubplot at 0x7fa65618fe50>"
      ]
     },
     "execution_count": 81,
     "metadata": {},
     "output_type": "execute_result"
    },
    {
     "data": {
      "image/png": "[encoded data removed]",
      "text/plain": [
       "<Figure size 864x720 with 1 Axes>"
      ]
     },
     "metadata": {
      "needs_background": "light"
     },
     "output_type": "display_data"
    }
   ],
   "source": [
    "# в RandomForestRegressor есть возможность вывести самые важные признаки для модели\n",
    "plt.rcParams['figure.figsize'] = (12,10)\n",
    "feat_importances = pd.Series(model.feature_importances_, index=X.columns)\n",
    "feat_importances.nlargest(15).plot(kind='barh')"
   ]
  },
  {
   "cell_type": "code",
   "execution_count": 82,
   "metadata": {
    "execution": {
     "iopub.execute_input": "2020-09-26T11:12:23.638449Z",
     "iopub.status.busy": "2020-09-26T11:12:23.637687Z",
     "iopub.status.idle": "2020-09-26T11:12:25.022130Z",
     "shell.execute_reply": "2020-09-26T11:12:25.022778Z"
    },
    "papermill": {
     "duration": 1.529218,
     "end_time": "2020-09-26T11:12:25.022931",
     "exception": false,
     "start_time": "2020-09-26T11:12:23.493713",
     "status": "completed"
    },
    "tags": []
   },
   "outputs": [
    {
     "data": {
      "text/plain": [
       "(15.5, -0.5)"
      ]
     },
     "execution_count": 82,
     "metadata": {},
     "output_type": "execute_result"
    },
    {
     "data": {
      "image/png": "[encoded data removed]",
      "text/plain": [
       "<Figure size 864x432 with 2 Axes>"
      ]
     },
     "metadata": {
      "needs_background": "light"
     },
     "output_type": "display_data"
    }
   ],
   "source": [
    "#Проверяем корреляцию важных переменных и применяем метод главных компонент (PCA)\n",
    "\n",
    "df_temp = df_model.loc[df_model['Sample'] == 1, list(feat_importances.nlargest(15).index[0:15])]\n",
    "plt.rcParams['figure.figsize'] = (12,6)\n",
    "ax = sns.heatmap(df_temp.corr(), annot=True, fmt='.2g')\n",
    "i, k = ax.get_ylim()\n",
    "ax.set_ylim(i+0.5, k-0.5)"
   ]
  },
  {
   "cell_type": "code",
   "execution_count": 83,
   "metadata": {
    "execution": {
     "iopub.execute_input": "2020-09-26T11:12:25.315769Z",
     "iopub.status.busy": "2020-09-26T11:12:25.314953Z",
     "iopub.status.idle": "2020-09-26T11:12:25.325161Z",
     "shell.execute_reply": "2020-09-26T11:12:25.325703Z"
    },
    "papermill": {
     "duration": 0.161648,
     "end_time": "2020-09-26T11:12:25.325884",
     "exception": false,
     "start_time": "2020-09-26T11:12:25.164236",
     "status": "completed"
    },
    "tags": []
   },
   "outputs": [
    {
     "data": {
      "text/html": [
       "<div>\n",
       "<style scoped>\n",
       "    .dataframe tbody tr th:only-of-type {\n",
       "        vertical-align: middle;\n",
       "    }\n",
       "\n",
       "    .dataframe tbody tr th {\n",
       "        vertical-align: top;\n",
       "    }\n",
       "\n",
       "    .dataframe thead th {\n",
       "        text-align: right;\n",
       "    }\n",
       "</style>\n",
       "<table border=\"1\" class=\"dataframe\">\n",
       "  <thead>\n",
       "    <tr style=\"text-align: right;\">\n",
       "      <th></th>\n",
       "      <th>quantity_Cuisine_Style</th>\n",
       "      <th>Restorant_City_count</th>\n",
       "    </tr>\n",
       "  </thead>\n",
       "  <tbody>\n",
       "    <tr>\n",
       "      <th>quantity_Cuisine_Style</th>\n",
       "      <td>1.000000</td>\n",
       "      <td>-0.051799</td>\n",
       "    </tr>\n",
       "    <tr>\n",
       "      <th>Restorant_City_count</th>\n",
       "      <td>-0.051799</td>\n",
       "      <td>1.000000</td>\n",
       "    </tr>\n",
       "  </tbody>\n",
       "</table>\n",
       "</div>"
      ],
      "text/plain": [
       "                        quantity_Cuisine_Style  Restorant_City_count\n",
       "quantity_Cuisine_Style                1.000000             -0.051799\n",
       "Restorant_City_count                 -0.051799              1.000000"
      ]
     },
     "metadata": {},
     "output_type": "display_data"
    }
   ],
   "source": [
    "list_temp = list(feat_importances.nlargest(15).index[[11,12]])\n",
    "display(df_temp[list_temp].corr())"
   ]
  },
  {
   "cell_type": "code",
   "execution_count": 84,
   "metadata": {
    "execution": {
     "iopub.execute_input": "2020-09-26T11:12:25.628629Z",
     "iopub.status.busy": "2020-09-26T11:12:25.627584Z",
     "iopub.status.idle": "2020-09-26T11:12:25.631585Z",
     "shell.execute_reply": "2020-09-26T11:12:25.630866Z"
    },
    "papermill": {
     "duration": 0.162876,
     "end_time": "2020-09-26T11:12:25.631722",
     "exception": false,
     "start_time": "2020-09-26T11:12:25.468846",
     "status": "completed"
    },
    "tags": []
   },
   "outputs": [],
   "source": [
    "df_model.drop(['Ranking_City_mean'], axis=1, inplace=True, errors='ignore')"
   ]
  },
  {
   "cell_type": "code",
   "execution_count": 85,
   "metadata": {
    "execution": {
     "iopub.execute_input": "2020-09-26T11:12:25.951628Z",
     "iopub.status.busy": "2020-09-26T11:12:25.950846Z",
     "iopub.status.idle": "2020-09-26T11:12:25.982951Z",
     "shell.execute_reply": "2020-09-26T11:12:25.983550Z"
    },
    "papermill": {
     "duration": 0.209997,
     "end_time": "2020-09-26T11:12:25.983725",
     "exception": false,
     "start_time": "2020-09-26T11:12:25.773728",
     "status": "completed"
    },
    "tags": []
   },
   "outputs": [],
   "source": [
    "train_data = df.query('Sample == 1').drop(['Sample'], axis=1)\n",
    "test_data = df.query('Sample == 0').drop(['Sample','Rating'], axis=1)"
   ]
  },
  {
   "cell_type": "code",
   "execution_count": 86,
   "metadata": {
    "execution": {
     "iopub.execute_input": "2020-09-26T11:12:26.292242Z",
     "iopub.status.busy": "2020-09-26T11:12:26.291462Z",
     "iopub.status.idle": "2020-09-26T11:12:26.294632Z",
     "shell.execute_reply": "2020-09-26T11:12:26.295186Z"
    },
    "papermill": {
     "duration": 0.157985,
     "end_time": "2020-09-26T11:12:26.295369",
     "exception": false,
     "start_time": "2020-09-26T11:12:26.137384",
     "status": "completed"
    },
    "tags": []
   },
   "outputs": [],
   "source": [
    "y = train_data.Rating.values    \n",
    "X = train_data.drop(['Rating'], axis=1)"
   ]
  },
  {
   "cell_type": "code",
   "execution_count": 87,
   "metadata": {
    "execution": {
     "iopub.execute_input": "2020-09-26T11:12:26.588778Z",
     "iopub.status.busy": "2020-09-26T11:12:26.588006Z",
     "iopub.status.idle": "2020-09-26T11:12:26.591963Z",
     "shell.execute_reply": "2020-09-26T11:12:26.591227Z"
    },
    "papermill": {
     "duration": 0.154323,
     "end_time": "2020-09-26T11:12:26.592115",
     "exception": false,
     "start_time": "2020-09-26T11:12:26.437792",
     "status": "completed"
    },
    "tags": []
   },
   "outputs": [],
   "source": [
    "model = RandomForestRegressor(n_estimators=100, verbose=1, n_jobs=-1, random_state=RANDOM_SEED)"
   ]
  },
  {
   "cell_type": "code",
   "execution_count": 88,
   "metadata": {
    "execution": {
     "iopub.execute_input": "2020-09-26T11:12:26.885482Z",
     "iopub.status.busy": "2020-09-26T11:12:26.884712Z",
     "iopub.status.idle": "2020-09-26T11:12:42.422367Z",
     "shell.execute_reply": "2020-09-26T11:12:42.421585Z"
    },
    "papermill": {
     "duration": 15.687648,
     "end_time": "2020-09-26T11:12:42.422517",
     "exception": false,
     "start_time": "2020-09-26T11:12:26.734869",
     "status": "completed"
    },
    "tags": []
   },
   "outputs": [
    {
     "name": "stderr",
     "output_type": "stream",
     "text": [
      "[Parallel(n_jobs=-1)]: Using backend ThreadingBackend with 4 concurrent workers.\n",
      "[Parallel(n_jobs=-1)]: Done  42 tasks      | elapsed:    6.5s\n",
      "[Parallel(n_jobs=-1)]: Done 100 out of 100 | elapsed:   15.4s finished\n"
     ]
    },
    {
     "data": {
      "text/plain": [
       "RandomForestRegressor(n_jobs=-1, random_state=42, verbose=1)"
      ]
     },
     "execution_count": 88,
     "metadata": {},
     "output_type": "execute_result"
    }
   ],
   "source": [
    "model.fit(X, y)"
   ]
  },
  {
   "cell_type": "code",
   "execution_count": 89,
   "metadata": {
    "execution": {
     "iopub.execute_input": "2020-09-26T11:12:42.719985Z",
     "iopub.status.busy": "2020-09-26T11:12:42.719153Z",
     "iopub.status.idle": "2020-09-26T11:12:42.828177Z",
     "shell.execute_reply": "2020-09-26T11:12:42.826529Z"
    },
    "papermill": {
     "duration": 0.260686,
     "end_time": "2020-09-26T11:12:42.828352",
     "exception": false,
     "start_time": "2020-09-26T11:12:42.567666",
     "status": "completed"
    },
    "tags": []
   },
   "outputs": [
    {
     "name": "stderr",
     "output_type": "stream",
     "text": [
      "[Parallel(n_jobs=4)]: Using backend ThreadingBackend with 4 concurrent workers.\n",
      "[Parallel(n_jobs=4)]: Done  42 tasks      | elapsed:    0.0s\n",
      "[Parallel(n_jobs=4)]: Done 100 out of 100 | elapsed:    0.1s finished\n"
     ]
    }
   ],
   "source": [
    "predict_submission = model.predict(test_data)"
   ]
  },
  {
   "cell_type": "code",
   "execution_count": 90,
   "metadata": {
    "execution": {
     "iopub.execute_input": "2020-09-26T11:12:43.141195Z",
     "iopub.status.busy": "2020-09-26T11:12:43.140179Z",
     "iopub.status.idle": "2020-09-26T11:12:43.144274Z",
     "shell.execute_reply": "2020-09-26T11:12:43.143663Z"
    },
    "papermill": {
     "duration": 0.170598,
     "end_time": "2020-09-26T11:12:43.144407",
     "exception": false,
     "start_time": "2020-09-26T11:12:42.973809",
     "status": "completed"
    },
    "tags": []
   },
   "outputs": [],
   "source": [
    "predict_submission = my_vec_round(predict_submission)"
   ]
  },
  {
   "cell_type": "code",
   "execution_count": 91,
   "metadata": {
    "execution": {
     "iopub.execute_input": "2020-09-26T11:12:43.447568Z",
     "iopub.status.busy": "2020-09-26T11:12:43.446755Z",
     "iopub.status.idle": "2020-09-26T11:12:43.773347Z",
     "shell.execute_reply": "2020-09-26T11:12:43.772565Z"
    },
    "papermill": {
     "duration": 0.479663,
     "end_time": "2020-09-26T11:12:43.773481",
     "exception": false,
     "start_time": "2020-09-26T11:12:43.293818",
     "status": "completed"
    },
    "tags": []
   },
   "outputs": [
    {
     "data": {
      "text/html": [
       "<div>\n",
       "<style scoped>\n",
       "    .dataframe tbody tr th:only-of-type {\n",
       "        vertical-align: middle;\n",
       "    }\n",
       "\n",
       "    .dataframe tbody tr th {\n",
       "        vertical-align: top;\n",
       "    }\n",
       "\n",
       "    .dataframe thead th {\n",
       "        text-align: right;\n",
       "    }\n",
       "</style>\n",
       "<table border=\"1\" class=\"dataframe\">\n",
       "  <thead>\n",
       "    <tr style=\"text-align: right;\">\n",
       "      <th></th>\n",
       "      <th>Restaurant_id</th>\n",
       "      <th>Rating</th>\n",
       "    </tr>\n",
       "  </thead>\n",
       "  <tbody>\n",
       "    <tr>\n",
       "      <th>0</th>\n",
       "      <td>id_0</td>\n",
       "      <td>3.0</td>\n",
       "    </tr>\n",
       "    <tr>\n",
       "      <th>1</th>\n",
       "      <td>id_1</td>\n",
       "      <td>4.0</td>\n",
       "    </tr>\n",
       "    <tr>\n",
       "      <th>2</th>\n",
       "      <td>id_2</td>\n",
       "      <td>4.5</td>\n",
       "    </tr>\n",
       "    <tr>\n",
       "      <th>3</th>\n",
       "      <td>id_3</td>\n",
       "      <td>4.5</td>\n",
       "    </tr>\n",
       "    <tr>\n",
       "      <th>4</th>\n",
       "      <td>id_4</td>\n",
       "      <td>4.5</td>\n",
       "    </tr>\n",
       "    <tr>\n",
       "      <th>5</th>\n",
       "      <td>id_5</td>\n",
       "      <td>4.5</td>\n",
       "    </tr>\n",
       "    <tr>\n",
       "      <th>6</th>\n",
       "      <td>id_6</td>\n",
       "      <td>1.5</td>\n",
       "    </tr>\n",
       "    <tr>\n",
       "      <th>7</th>\n",
       "      <td>id_7</td>\n",
       "      <td>2.5</td>\n",
       "    </tr>\n",
       "    <tr>\n",
       "      <th>8</th>\n",
       "      <td>id_8</td>\n",
       "      <td>4.0</td>\n",
       "    </tr>\n",
       "    <tr>\n",
       "      <th>9</th>\n",
       "      <td>id_9</td>\n",
       "      <td>4.5</td>\n",
       "    </tr>\n",
       "  </tbody>\n",
       "</table>\n",
       "</div>"
      ],
      "text/plain": [
       "  Restaurant_id  Rating\n",
       "0          id_0     3.0\n",
       "1          id_1     4.0\n",
       "2          id_2     4.5\n",
       "3          id_3     4.5\n",
       "4          id_4     4.5\n",
       "5          id_5     4.5\n",
       "6          id_6     1.5\n",
       "7          id_7     2.5\n",
       "8          id_8     4.0\n",
       "9          id_9     4.5"
      ]
     },
     "execution_count": 91,
     "metadata": {},
     "output_type": "execute_result"
    }
   ],
   "source": [
    "sample_submission['Rating'] = predict_submission\n",
    "sample_submission.to_csv('submission.csv', index=False)\n",
    "sample_submission.head(10)"
   ]
  }
 ],
 "metadata": {
  "kernelspec": {
   "display_name": "Python 3",
   "language": "python",
   "name": "python3"
  },
  "language_info": {
   "codemirror_mode": {
    "name": "ipython",
    "version": 3
   },
   "file_extension": ".py",
   "mimetype": "text/x-python",
   "name": "python",
   "nbconvert_exporter": "python",
   "pygments_lexer": "ipython3",
   "version": "3.7.4"
  },
  "papermill": {
   "duration": 212.071289,
   "end_time": "2020-09-26T11:12:44.028993",
   "environment_variables": {},
   "exception": null,
   "input_path": "__notebook__.ipynb",
   "output_path": "__notebook__.ipynb",
   "parameters": {},
   "start_time": "2020-09-26T11:09:11.957704",
   "version": "2.1.0"
  }
 },
 "nbformat": 4,
 "nbformat_minor": 4
}
